{
 "cells": [
  {
   "cell_type": "code",
   "execution_count": 16,
   "id": "eb334bbf",
   "metadata": {},
   "outputs": [
    {
     "data": {
      "text/html": [
       "<div>\n",
       "<style scoped>\n",
       "    .dataframe tbody tr th:only-of-type {\n",
       "        vertical-align: middle;\n",
       "    }\n",
       "\n",
       "    .dataframe tbody tr th {\n",
       "        vertical-align: top;\n",
       "    }\n",
       "\n",
       "    .dataframe thead th {\n",
       "        text-align: right;\n",
       "    }\n",
       "</style>\n",
       "<table border=\"1\" class=\"dataframe\">\n",
       "  <thead>\n",
       "    <tr style=\"text-align: right;\">\n",
       "      <th></th>\n",
       "      <th>a</th>\n",
       "      <th>b</th>\n",
       "      <th>c</th>\n",
       "      <th>d</th>\n",
       "      <th>e</th>\n",
       "    </tr>\n",
       "  </thead>\n",
       "  <tbody>\n",
       "    <tr>\n",
       "      <th>0</th>\n",
       "      <td>name</td>\n",
       "      <td>email</td>\n",
       "      <td>address</td>\n",
       "      <td>pincode</td>\n",
       "      <td>sirname</td>\n",
       "    </tr>\n",
       "    <tr>\n",
       "      <th>1</th>\n",
       "      <td>niraj</td>\n",
       "      <td>nirajsharma6065@gmail.com</td>\n",
       "      <td>up</td>\n",
       "      <td>560012</td>\n",
       "      <td>niru</td>\n",
       "    </tr>\n",
       "    <tr>\n",
       "      <th>2</th>\n",
       "      <td>dhiraj</td>\n",
       "      <td>dhirajsharma6065@gmail.com</td>\n",
       "      <td>up</td>\n",
       "      <td>560013</td>\n",
       "      <td>dhiru</td>\n",
       "    </tr>\n",
       "    <tr>\n",
       "      <th>3</th>\n",
       "      <td>suraj</td>\n",
       "      <td>surajsharma6065@gmail.com</td>\n",
       "      <td>bihar</td>\n",
       "      <td>274401</td>\n",
       "      <td>suru</td>\n",
       "    </tr>\n",
       "    <tr>\n",
       "      <th>4</th>\n",
       "      <td>sudhir</td>\n",
       "      <td>sudhirsharma6065@gmail.com</td>\n",
       "      <td>blr</td>\n",
       "      <td>247702</td>\n",
       "      <td>shudhu</td>\n",
       "    </tr>\n",
       "  </tbody>\n",
       "</table>\n",
       "</div>"
      ],
      "text/plain": [
       "        a                           b         c        d        e\n",
       "0    name                       email  address   pincode  sirname\n",
       "1   niraj   nirajsharma6065@gmail.com        up   560012     niru\n",
       "2  dhiraj  dhirajsharma6065@gmail.com        up   560013    dhiru\n",
       "3   suraj   surajsharma6065@gmail.com     bihar   274401     suru\n",
       "4  sudhir  sudhirsharma6065@gmail.com       blr   247702   shudhu"
      ]
     },
     "execution_count": 16,
     "metadata": {},
     "output_type": "execute_result"
    }
   ],
   "source": [
    "import pandas as pd\n",
    "pd.read_csv('sample.csv',names=[\"a\",\"b\",\"c\",\"d\",\"e\"])"
   ]
  },
  {
   "cell_type": "code",
   "execution_count": 24,
   "id": "0ee94829",
   "metadata": {},
   "outputs": [],
   "source": [
    "import tkinter\n",
    "tw=tkinter.Tk()\n",
    "tw.mainloop()"
   ]
  },
  {
   "cell_type": "code",
   "execution_count": 1,
   "id": "3efe33a2",
   "metadata": {},
   "outputs": [
    {
     "name": "stdout",
     "output_type": "stream",
     "text": [
      "hello Neurons\n"
     ]
    }
   ],
   "source": [
    "print(\"hello Neurons\")"
   ]
  },
  {
   "cell_type": "code",
   "execution_count": 3,
   "id": "6cdfa121",
   "metadata": {},
   "outputs": [
    {
     "ename": "SyntaxError",
     "evalue": "unterminated string literal (detected at line 1) (Temp/ipykernel_9780/1176626673.py, line 1)",
     "output_type": "error",
     "traceback": [
      "\u001b[1;36m  File \u001b[1;32m\"C:\\Users\\niraj\\AppData\\Local\\Temp/ipykernel_9780/1176626673.py\"\u001b[1;36m, line \u001b[1;32m1\u001b[0m\n\u001b[1;33m    print(\"good\u001b[0m\n\u001b[1;37m          ^\u001b[0m\n\u001b[1;31mSyntaxError\u001b[0m\u001b[1;31m:\u001b[0m unterminated string literal (detected at line 1)\n"
     ]
    }
   ],
   "source": [
    "print(\"good \n",
    "      Evening\")"
   ]
  },
  {
   "cell_type": "code",
   "execution_count": 4,
   "id": "6206d48c",
   "metadata": {},
   "outputs": [
    {
     "name": "stdout",
     "output_type": "stream",
     "text": [
      "\n",
      "H\n",
      "J\n",
      "K\n"
     ]
    }
   ],
   "source": [
    "print(\"\"\"\n",
    "H\n",
    "J\n",
    "K\"\"\")"
   ]
  },
  {
   "cell_type": "code",
   "execution_count": 10,
   "id": "5fe87349",
   "metadata": {},
   "outputs": [
    {
     "name": "stdout",
     "output_type": "stream",
     "text": [
      "Hi my name is \"Sunny\" \n"
     ]
    }
   ],
   "source": [
    "print('Hi my name is \"Sunny\" ')"
   ]
  },
  {
   "cell_type": "code",
   "execution_count": 11,
   "id": "5900bc9c",
   "metadata": {},
   "outputs": [
    {
     "name": "stdout",
     "output_type": "stream",
     "text": [
      "-2\n"
     ]
    }
   ],
   "source": [
    "print(3-5)"
   ]
  },
  {
   "cell_type": "code",
   "execution_count": 12,
   "id": "6a30bfd1",
   "metadata": {},
   "outputs": [
    {
     "name": "stdout",
     "output_type": "stream",
     "text": [
      "10\n"
     ]
    }
   ],
   "source": [
    "x=10\n",
    "print(x)"
   ]
  },
  {
   "cell_type": "code",
   "execution_count": 13,
   "id": "384a3f70",
   "metadata": {},
   "outputs": [
    {
     "name": "stdout",
     "output_type": "stream",
     "text": [
      "2.5\n"
     ]
    }
   ],
   "source": [
    "x=10\n",
    "y=4\n",
    "print(x/y)"
   ]
  },
  {
   "cell_type": "code",
   "execution_count": 14,
   "id": "53dc27d6",
   "metadata": {},
   "outputs": [
    {
     "name": "stdout",
     "output_type": "stream",
     "text": [
      "6\n"
     ]
    }
   ],
   "source": [
    "print(x-y)"
   ]
  },
  {
   "cell_type": "code",
   "execution_count": 17,
   "id": "d0972cb2",
   "metadata": {},
   "outputs": [
    {
     "data": {
      "text/plain": [
       "float"
      ]
     },
     "execution_count": 17,
     "metadata": {},
     "output_type": "execute_result"
    }
   ],
   "source": [
    "a=5.1\n",
    "type(a)"
   ]
  },
  {
   "cell_type": "code",
   "execution_count": 18,
   "id": "68fcdacf",
   "metadata": {},
   "outputs": [
    {
     "ename": "NameError",
     "evalue": "name 'pi' is not defined",
     "output_type": "error",
     "traceback": [
      "\u001b[1;31m---------------------------------------------------------------------------\u001b[0m",
      "\u001b[1;31mNameError\u001b[0m                                 Traceback (most recent call last)",
      "\u001b[1;32m~\\AppData\\Local\\Temp/ipykernel_9780/2493917274.py\u001b[0m in \u001b[0;36m<module>\u001b[1;34m\u001b[0m\n\u001b[1;32m----> 1\u001b[1;33m \u001b[0mprint\u001b[0m\u001b[1;33m(\u001b[0m\u001b[0mpi\u001b[0m\u001b[1;33m)\u001b[0m\u001b[1;33m\u001b[0m\u001b[1;33m\u001b[0m\u001b[0m\n\u001b[0m",
      "\u001b[1;31mNameError\u001b[0m: name 'pi' is not defined"
     ]
    }
   ],
   "source": [
    "print(pi)"
   ]
  },
  {
   "cell_type": "code",
   "execution_count": 19,
   "id": "7d0315c4",
   "metadata": {},
   "outputs": [
    {
     "name": "stdout",
     "output_type": "stream",
     "text": [
      "<class 'int'>\n"
     ]
    }
   ],
   "source": [
    "a=11\n",
    "print(type(a)"
   ]
  },
  {
   "cell_type": "code",
   "execution_count": 21,
   "id": "cade5ef1",
   "metadata": {},
   "outputs": [
    {
     "name": "stdout",
     "output_type": "stream",
     "text": [
      "<class 'bool'>\n"
     ]
    }
   ],
   "source": [
    "one=True\n",
    "two=False\n",
    "\n",
    "print(type(two))"
   ]
  },
  {
   "cell_type": "code",
   "execution_count": 22,
   "id": "91fc03b4",
   "metadata": {},
   "outputs": [
    {
     "data": {
      "text/plain": [
       "False"
      ]
     },
     "execution_count": 22,
     "metadata": {},
     "output_type": "execute_result"
    }
   ],
   "source": [
    "a1=20\n",
    "b1=10\n",
    "a1==b1"
   ]
  },
  {
   "cell_type": "code",
   "execution_count": 27,
   "id": "afdd14c3",
   "metadata": {},
   "outputs": [
    {
     "name": "stdout",
     "output_type": "stream",
     "text": [
      "my name is:\"name\"\n"
     ]
    }
   ],
   "source": [
    "name=\"NIRAJ\"\n",
    "print('my name is:\"name\"')"
   ]
  },
  {
   "cell_type": "code",
   "execution_count": 28,
   "id": "43617436",
   "metadata": {},
   "outputs": [
    {
     "name": "stdout",
     "output_type": "stream",
     "text": [
      "10\n"
     ]
    }
   ],
   "source": [
    "ten=10\n",
    "print(ten)"
   ]
  },
  {
   "cell_type": "code",
   "execution_count": 29,
   "id": "b1ee1dbf",
   "metadata": {},
   "outputs": [
    {
     "name": "stdout",
     "output_type": "stream",
     "text": [
      "10\n"
     ]
    }
   ],
   "source": [
    "TEN=10\n",
    "print(TEN)"
   ]
  },
  {
   "cell_type": "code",
   "execution_count": 32,
   "id": "bb263901",
   "metadata": {},
   "outputs": [],
   "source": [
    "print=\"hi there\"\n",
    "type(print)\n",
    "del print"
   ]
  },
  {
   "cell_type": "code",
   "execution_count": 31,
   "id": "3a6c1107",
   "metadata": {},
   "outputs": [],
   "source": [
    "del print"
   ]
  },
  {
   "cell_type": "code",
   "execution_count": 34,
   "id": "28c1b880",
   "metadata": {},
   "outputs": [
    {
     "data": {
      "text/plain": [
       "int"
      ]
     },
     "execution_count": 34,
     "metadata": {},
     "output_type": "execute_result"
    }
   ],
   "source": [
    "a,b,c,yes=10,20.2,\"summy\",True\n",
    "type(a)"
   ]
  },
  {
   "cell_type": "code",
   "execution_count": 35,
   "id": "d8022335",
   "metadata": {},
   "outputs": [
    {
     "data": {
      "text/plain": [
       "float"
      ]
     },
     "execution_count": 35,
     "metadata": {},
     "output_type": "execute_result"
    }
   ],
   "source": [
    "type(b)"
   ]
  },
  {
   "cell_type": "code",
   "execution_count": 36,
   "id": "6ba8200c",
   "metadata": {},
   "outputs": [
    {
     "data": {
      "text/plain": [
       "str"
      ]
     },
     "execution_count": 36,
     "metadata": {},
     "output_type": "execute_result"
    }
   ],
   "source": [
    "type(c)"
   ]
  },
  {
   "cell_type": "code",
   "execution_count": 37,
   "id": "2f611587",
   "metadata": {},
   "outputs": [
    {
     "data": {
      "text/plain": [
       "bool"
      ]
     },
     "execution_count": 37,
     "metadata": {},
     "output_type": "execute_result"
    }
   ],
   "source": [
    "type(yes)"
   ]
  },
  {
   "cell_type": "code",
   "execution_count": 43,
   "id": "7216436c",
   "metadata": {},
   "outputs": [
    {
     "name": "stdout",
     "output_type": "stream",
     "text": [
      "sunny.chandra@gmail.com\n"
     ]
    }
   ],
   "source": [
    "a,b,c=\"sunny\",\"bhavana\",\"chandra\"\n",
    "print(f'{a}.{c}@gmail.com')"
   ]
  },
  {
   "cell_type": "code",
   "execution_count": 45,
   "id": "ee17fd81",
   "metadata": {},
   "outputs": [
    {
     "ename": "SyntaxError",
     "evalue": "f-string: invalid syntax. Perhaps you forgot a comma? (Temp/ipykernel_9780/2142686230.py, line 4)",
     "output_type": "error",
     "traceback": [
      "\u001b[1;36m  File \u001b[1;32m\"C:\\Users\\niraj\\AppData\\Local\\Temp/ipykernel_9780/2142686230.py\"\u001b[1;36m, line \u001b[1;32m4\u001b[0m\n\u001b[1;33m    I was born in:{17.10.2001}\u001b[0m\n\u001b[1;37m     ^\u001b[0m\n\u001b[1;31mSyntaxError\u001b[0m\u001b[1;31m:\u001b[0m f-string: invalid syntax. Perhaps you forgot a comma?\n"
     ]
    }
   ],
   "source": [
    "print(f\"\"\"\n",
    "My name is:{Niraj}\n",
    "I live at:{Bangalore}\n",
    "I was born in:{17.10.2001}\n",
    "My weight is:{70} in kgs\n",
    "\"\"\")"
   ]
  },
  {
   "cell_type": "code",
   "execution_count": 46,
   "id": "33f557bf",
   "metadata": {
    "scrolled": true
   },
   "outputs": [
    {
     "ename": "NameError",
     "evalue": "name 'place' is not defined",
     "output_type": "error",
     "traceback": [
      "\u001b[1;31m---------------------------------------------------------------------------\u001b[0m",
      "\u001b[1;31mNameError\u001b[0m                                 Traceback (most recent call last)",
      "\u001b[1;32m~\\AppData\\Local\\Temp/ipykernel_9780/2115802756.py\u001b[0m in \u001b[0;36m<module>\u001b[1;34m\u001b[0m\n\u001b[0;32m      1\u001b[0m print(f\"\"\"\n\u001b[0;32m      2\u001b[0m \u001b[0mMy\u001b[0m \u001b[0mname\u001b[0m \u001b[1;32mis\u001b[0m\u001b[1;33m:\u001b[0m \u001b[1;33m{\u001b[0m\u001b[0mname\u001b[0m\u001b[1;33m}\u001b[0m\u001b[1;33m\u001b[0m\u001b[1;33m\u001b[0m\u001b[0m\n\u001b[1;32m----> 3\u001b[1;33m \u001b[0mI\u001b[0m \u001b[0mlive\u001b[0m \u001b[0mat\u001b[0m\u001b[1;33m:\u001b[0m \u001b[1;33m{\u001b[0m\u001b[0mplace\u001b[0m\u001b[1;33m}\u001b[0m\u001b[1;33m\u001b[0m\u001b[1;33m\u001b[0m\u001b[0m\n\u001b[0m\u001b[0;32m      4\u001b[0m \u001b[0mI\u001b[0m \u001b[0mwas\u001b[0m \u001b[0mborn\u001b[0m \u001b[1;32min\u001b[0m\u001b[1;33m:\u001b[0m \u001b[1;33m{\u001b[0m\u001b[0myear_of_birth\u001b[0m\u001b[1;33m}\u001b[0m\u001b[1;33m\u001b[0m\u001b[1;33m\u001b[0m\u001b[0m\n\u001b[0;32m      5\u001b[0m \u001b[0mMy\u001b[0m \u001b[0mweight\u001b[0m \u001b[1;32mis\u001b[0m\u001b[1;33m:\u001b[0m \u001b[1;33m{\u001b[0m\u001b[0mweight\u001b[0m\u001b[1;33m}\u001b[0m \u001b[1;32min\u001b[0m \u001b[0mKgs\u001b[0m\u001b[1;33m\u001b[0m\u001b[1;33m\u001b[0m\u001b[0m\n",
      "\u001b[1;31mNameError\u001b[0m: name 'place' is not defined"
     ]
    }
   ],
   "source": [
    "print(f\"\"\"\n",
    "My name is: {name}\n",
    "I live at: {place}\n",
    "I was born in: {year_of_birth}\n",
    "My weight is: {weight} in Kgs\n",
    "\"\"\")"
   ]
  },
  {
   "cell_type": "code",
   "execution_count": 47,
   "id": "49e681e8",
   "metadata": {},
   "outputs": [
    {
     "name": "stdout",
     "output_type": "stream",
     "text": [
      "enter your name:Niraj kumar sharma\n",
      "you have entered:Niraj kumar sharma\n"
     ]
    }
   ],
   "source": [
    "name=input(\"enter your name:\")\n",
    "print(f\"you have entered:{name}\")"
   ]
  },
  {
   "cell_type": "code",
   "execution_count": 57,
   "id": "154cc955",
   "metadata": {},
   "outputs": [
    {
     "name": "stdout",
     "output_type": "stream",
     "text": [
      "Enter value of A: 1\n",
      "Enter value of B: 1\n",
      "Sum of A and B is: 11\n"
     ]
    }
   ],
   "source": [
    "A = input(\"Enter value of A: \")\n",
    "B = input(\"Enter value of B: \")\n",
    "\n",
    "print(f\"Sum of A and B is: {A+B}\")\n"
   ]
  },
  {
   "cell_type": "markdown",
   "id": "608abea4",
   "metadata": {},
   "source": [
    "name = input(\"Name:\")\n",
    "\n"
   ]
  },
  {
   "cell_type": "code",
   "execution_count": 58,
   "id": "0e00ef2e",
   "metadata": {},
   "outputs": [
    {
     "name": "stdout",
     "output_type": "stream",
     "text": [
      "Name:niraj\n",
      "place:bangalore\n",
      "Year_of_birth:2001\n",
      "\n",
      "My name is:niraj\n",
      "I live at:bangalore\n",
      "I was born in:2001\n",
      "\n"
     ]
    }
   ],
   "source": [
    "name=input(\"Name:\")\n",
    "place=input(\"place:\")\n",
    "YOB=input(\"Year_of_birth:\")\n",
    "\n",
    "print(f\"\"\"\n",
    "My name is:{name}\n",
    "I live at:{place}\n",
    "I was born in:{YOB}\n",
    "\"\"\")"
   ]
  },
  {
   "cell_type": "code",
   "execution_count": 63,
   "id": "42637993",
   "metadata": {},
   "outputs": [
    {
     "name": "stdout",
     "output_type": "stream",
     "text": [
      "enter the value of m1:12\n",
      "enter the value of m2:2\n",
      "<class 'int'> <class 'int'>\n",
      "Sum of m1 and m2 is:14\n"
     ]
    }
   ],
   "source": [
    "m1=int(input(\"enter the value of m1:\"))\n",
    "m2=int(input(\"enter the value of m2:\"))\n",
    "\n",
    "print(type(m1),type(m2))\n",
    "\n",
    "print(f\"Sum of m1 and m2 is:{m1+m2}\")"
   ]
  },
  {
   "cell_type": "code",
   "execution_count": 5,
   "id": "4049ffca",
   "metadata": {},
   "outputs": [
    {
     "ename": "NameError",
     "evalue": "name 'condition' is not defined",
     "output_type": "error",
     "traceback": [
      "\u001b[1;31m---------------------------------------------------------------------------\u001b[0m",
      "\u001b[1;31mNameError\u001b[0m                                 Traceback (most recent call last)",
      "\u001b[1;32m~\\AppData\\Local\\Temp/ipykernel_7368/1639598077.py\u001b[0m in \u001b[0;36m<module>\u001b[1;34m\u001b[0m\n\u001b[1;32m----> 1\u001b[1;33m \u001b[1;32mif\u001b[0m \u001b[0mcondition\u001b[0m\u001b[1;33m:\u001b[0m\u001b[1;33m\u001b[0m\u001b[1;33m\u001b[0m\u001b[0m\n\u001b[0m\u001b[0;32m      2\u001b[0m     \u001b[0mprint\u001b[0m\u001b[1;33m(\u001b[0m\u001b[1;34m\"execute this statement\"\u001b[0m\u001b[1;33m)\u001b[0m\u001b[1;33m\u001b[0m\u001b[1;33m\u001b[0m\u001b[0m\n\u001b[0;32m      3\u001b[0m \u001b[1;32melse\u001b[0m\u001b[1;33m:\u001b[0m\u001b[1;33m\u001b[0m\u001b[1;33m\u001b[0m\u001b[0m\n\u001b[0;32m      4\u001b[0m     \u001b[0mprint\u001b[0m\u001b[1;33m(\u001b[0m\u001b[1;34m\"if condition is not true\"\u001b[0m\u001b[1;33m)\u001b[0m\u001b[1;33m\u001b[0m\u001b[1;33m\u001b[0m\u001b[0m\n",
      "\u001b[1;31mNameError\u001b[0m: name 'condition' is not defined"
     ]
    }
   ],
   "source": [
    "if condition:\n",
    "    print(\"execute this statement\")\n",
    "else:\n",
    "    print(\"if condition is not true\")"
   ]
  },
  {
   "cell_type": "code",
   "execution_count": 4,
   "id": "207522d8",
   "metadata": {},
   "outputs": [
    {
     "name": "stdout",
     "output_type": "stream",
     "text": [
      "lets do WFH\n"
     ]
    }
   ],
   "source": [
    "raining=True\n",
    "if raining:\n",
    "    print(\"lets do WFH\")\n",
    "else:\n",
    "    print(\"lets go to Office\")"
   ]
  },
  {
   "cell_type": "code",
   "execution_count": 3,
   "id": "3b4852e8",
   "metadata": {},
   "outputs": [
    {
     "name": "stdout",
     "output_type": "stream",
     "text": [
      "Lets do work from home\n"
     ]
    }
   ],
   "source": [
    "raining = True\n",
    "\n",
    "if raining: # TRUE CONDITION \n",
    "    print(\"Lets do work from home\") # This statemen exectuted\n",
    "else:\n",
    "    print(\"Lets go to office\")"
   ]
  },
  {
   "cell_type": "code",
   "execution_count": 6,
   "id": "ce553b3a",
   "metadata": {},
   "outputs": [
    {
     "name": "stdout",
     "output_type": "stream",
     "text": [
      "Lets go to office\n"
     ]
    }
   ],
   "source": [
    "raining = False\n",
    "\n",
    "if raining: # TRUE CONDITION \n",
    "    print(\"Lets do work from home\") # This statemen exectuted\n",
    "else:\n",
    "    print(\"Lets go to office\")"
   ]
  },
  {
   "cell_type": "code",
   "execution_count": 8,
   "id": "9d570a39",
   "metadata": {},
   "outputs": [
    {
     "name": "stdout",
     "output_type": "stream",
     "text": [
      "since its not raining...\n",
      "lets go to office\n"
     ]
    }
   ],
   "source": [
    "raining=False\n",
    "if raining:\n",
    "    print(\"since its rainig...\")\n",
    "    print(\"lets do work from home\")\n",
    "else:\n",
    "    print(\"since its not raining...\")\n",
    "    print(\"lets go to office\")\n"
   ]
  },
  {
   "cell_type": "code",
   "execution_count": 11,
   "id": "79c06974",
   "metadata": {},
   "outputs": [
    {
     "name": "stdout",
     "output_type": "stream",
     "text": [
      "lets study\n"
     ]
    }
   ],
   "source": [
    "class_started=True\n",
    "if class_started:\n",
    "    print(\"lets study\")\n",
    "else:\n",
    "    print(\"lest revise\")"
   ]
  },
  {
   "cell_type": "code",
   "execution_count": 13,
   "id": "4836086e",
   "metadata": {},
   "outputs": [
    {
     "name": "stdout",
     "output_type": "stream",
     "text": [
      "since class is not started...\n",
      "Lets revise\n"
     ]
    }
   ],
   "source": [
    "class_started=False\n",
    "if not class_started:\n",
    "    print(\"since class is not started...\")\n",
    "    print(\"Lets revise\")\n",
    "else:\n",
    "    print(\"since class started..\")\n",
    "    print(\"lets concentrate\")"
   ]
  },
  {
   "cell_type": "code",
   "execution_count": 16,
   "id": "f5a8d87b",
   "metadata": {},
   "outputs": [
    {
     "name": "stdout",
     "output_type": "stream",
     "text": [
      "its a good dish\n"
     ]
    }
   ],
   "source": [
    "vegetable_present=True\n",
    "salt_present=True\n",
    "if vegetable_present and salt_present:\n",
    "    print(\"its a good dish\")\n",
    "else:\n",
    "    print(\"its a bad dish\")\n",
    "    print(f\"because vegetable present:{vegetable_present}\")\n",
    "    print(f\"and salt prsent:{salt_present}\")"
   ]
  },
  {
   "cell_type": "code",
   "execution_count": 17,
   "id": "84aca4d4",
   "metadata": {},
   "outputs": [
    {
     "name": "stdout",
     "output_type": "stream",
     "text": [
      "hi my name is:satym\n"
     ]
    }
   ],
   "source": [
    "name=\"satym\"\n",
    "print(f\"hi my name is:{name}\")"
   ]
  },
  {
   "cell_type": "code",
   "execution_count": 21,
   "id": "044c1aee",
   "metadata": {},
   "outputs": [
    {
     "name": "stdout",
     "output_type": "stream",
     "text": [
      "I can travel 100 kms in a day\n"
     ]
    }
   ],
   "source": [
    "i_own_car=True\n",
    "i_own_bike=False\n",
    "if i_own_car or i_own_bike:\n",
    "    print(\"I can travel 100 kms in a day\")\n",
    "else:\n",
    "    print(\"I am stuck as I don't have car or bike\")"
   ]
  },
  {
   "cell_type": "code",
   "execution_count": 24,
   "id": "7e67a651",
   "metadata": {},
   "outputs": [
    {
     "name": "stdout",
     "output_type": "stream",
     "text": [
      "attendence criteria met?:False\n",
      "assignment criteria met?:False\n",
      "The student is not eligible\n"
     ]
    }
   ],
   "source": [
    "attendence=70\n",
    "assignment_submitted=40\n",
    "print(f\"attendence criteria met?:{attendence>=75}\")\n",
    "print(f\"assignment criteria met?:{assignment_submitted>=70}\")\n",
    "if attendence>=70 and assignment_submitted>=70:\n",
    "    print(\"The student is eligible to appear in final exam\")\n",
    "else:\n",
    "    print(\"The student is not eligible\")"
   ]
  },
  {
   "cell_type": "code",
   "execution_count": 28,
   "id": "8fc43b5c",
   "metadata": {},
   "outputs": [
    {
     "name": "stdout",
     "output_type": "stream",
     "text": [
      "proceed further for payment\n"
     ]
    }
   ],
   "source": [
    "credit_card=True\n",
    "debit_card=False\n",
    "if credit_card  or debit_card:\n",
    "    print(\"proceed further for payment\")\n",
    "else:\n",
    "    print(\"Ask form a dad for bedit card or credit card\")\n",
    "    print(\"cash on delivery\")"
   ]
  },
  {
   "cell_type": "code",
   "execution_count": 32,
   "id": "0cf270cb",
   "metadata": {},
   "outputs": [
    {
     "name": "stdout",
     "output_type": "stream",
     "text": [
      "a and b are same\n"
     ]
    }
   ],
   "source": [
    "a=1\n",
    "b=3\n",
    "if a is not b:\n",
    "    print(\"a and b are same\")\n",
    "else:\n",
    "    print(\"a and b are not same\")\n"
   ]
  },
  {
   "cell_type": "code",
   "execution_count": 31,
   "id": "07de532d",
   "metadata": {},
   "outputs": [
    {
     "data": {
      "text/plain": [
       "2158718157040"
      ]
     },
     "execution_count": 31,
     "metadata": {},
     "output_type": "execute_result"
    }
   ],
   "source": [
    "id(a)"
   ]
  },
  {
   "cell_type": "code",
   "execution_count": 35,
   "id": "ae6eb8c2",
   "metadata": {},
   "outputs": [
    {
     "name": "stdout",
     "output_type": "stream",
     "text": [
      "A and B are same\n"
     ]
    }
   ],
   "source": [
    "A=3\n",
    "B=1\n",
    "if A!=B:\n",
    "    print(\"A and B are same\")\n",
    "else:\n",
    "    print(\"A and B are not same\")"
   ]
  },
  {
   "cell_type": "code",
   "execution_count": 37,
   "id": "4574cdf4",
   "metadata": {},
   "outputs": [
    {
     "name": "stdout",
     "output_type": "stream",
     "text": [
      "enter tge value of B1\n"
     ]
    },
    {
     "data": {
      "text/plain": [
       "True"
      ]
     },
     "execution_count": 37,
     "metadata": {},
     "output_type": "execute_result"
    }
   ],
   "source": [
    "A=1\n",
    "B=int(input(\"enter tge value of B\"))\n",
    "A is B"
   ]
  },
  {
   "cell_type": "markdown",
   "id": "2461e840",
   "metadata": {},
   "source": [
    "name"
   ]
  },
  {
   "cell_type": "code",
   "execution_count": 39,
   "id": "ecce55cf",
   "metadata": {},
   "outputs": [
    {
     "name": "stdout",
     "output_type": "stream",
     "text": [
      "enter your name:sunny\n",
      "Its possible that he/she is a student\n"
     ]
    }
   ],
   "source": [
    "name=input(\"enter your name:\")\n",
    "if name==\"sunny bhaeen chandra\":\n",
    "    print(f\"he is the mentor\")\n",
    "else:\n",
    "    print(f\"Its possible that he/she is a student\")\n",
    "    "
   ]
  },
  {
   "cell_type": "code",
   "execution_count": 47,
   "id": "9257b6dd",
   "metadata": {},
   "outputs": [
    {
     "name": "stdout",
     "output_type": "stream",
     "text": [
      "integer division:10/10=0\n"
     ]
    }
   ],
   "source": [
    "a=10\n",
    "b=10\n",
    "integer_division=b%a\n",
    "print(f\"integer division:{b}/{a}={integer_division}\")"
   ]
  },
  {
   "cell_type": "code",
   "execution_count": 48,
   "id": "061e95df",
   "metadata": {},
   "outputs": [
    {
     "name": "stdout",
     "output_type": "stream",
     "text": [
      "A:55 is NOT divisible by B:2\n"
     ]
    }
   ],
   "source": [
    "A=55\n",
    "B=2\n",
    "if A%B==0:\n",
    "    print(f\"A:{A} is divisible by B: {B}\")\n",
    "else:\n",
    "    print(f\"A:{A} is NOT divisible by B:{B}\")\n",
    "  "
   ]
  },
  {
   "cell_type": "code",
   "execution_count": 49,
   "id": "0ea3b9b0",
   "metadata": {},
   "outputs": [
    {
     "data": {
      "text/plain": [
       "'S'"
      ]
     },
     "execution_count": 49,
     "metadata": {},
     "output_type": "execute_result"
    }
   ],
   "source": [
    "name=\"Sunny\"\n",
    "name[0]"
   ]
  },
  {
   "cell_type": "code",
   "execution_count": 50,
   "id": "7dd26071",
   "metadata": {},
   "outputs": [
    {
     "data": {
      "text/plain": [
       "'y'"
      ]
     },
     "execution_count": 50,
     "metadata": {},
     "output_type": "execute_result"
    }
   ],
   "source": [
    "name[4]"
   ]
  },
  {
   "cell_type": "code",
   "execution_count": 51,
   "id": "08731a6c",
   "metadata": {},
   "outputs": [
    {
     "data": {
      "text/plain": [
       "'y'"
      ]
     },
     "execution_count": 51,
     "metadata": {},
     "output_type": "execute_result"
    }
   ],
   "source": [
    "name[-1]"
   ]
  },
  {
   "cell_type": "code",
   "execution_count": 52,
   "id": "0e332427",
   "metadata": {},
   "outputs": [
    {
     "data": {
      "text/plain": [
       "'unny'"
      ]
     },
     "execution_count": 52,
     "metadata": {},
     "output_type": "execute_result"
    }
   ],
   "source": [
    "name[1:]"
   ]
  },
  {
   "cell_type": "code",
   "execution_count": 53,
   "id": "1d4a773d",
   "metadata": {},
   "outputs": [
    {
     "data": {
      "text/plain": [
       "'un'"
      ]
     },
     "execution_count": 53,
     "metadata": {},
     "output_type": "execute_result"
    }
   ],
   "source": [
    "name[1:3]"
   ]
  },
  {
   "cell_type": "code",
   "execution_count": 55,
   "id": "d657d0d8",
   "metadata": {},
   "outputs": [
    {
     "data": {
      "text/plain": [
       "'unn'"
      ]
     },
     "execution_count": 55,
     "metadata": {},
     "output_type": "execute_result"
    }
   ],
   "source": [
    "name[1:4]"
   ]
  },
  {
   "cell_type": "code",
   "execution_count": 56,
   "id": "f5b02f7f",
   "metadata": {},
   "outputs": [
    {
     "data": {
      "text/plain": [
       "'unn'"
      ]
     },
     "execution_count": 56,
     "metadata": {},
     "output_type": "execute_result"
    }
   ],
   "source": [
    "name[-4:-1]"
   ]
  },
  {
   "cell_type": "code",
   "execution_count": 58,
   "id": "09f7927f",
   "metadata": {},
   "outputs": [
    {
     "name": "stdout",
     "output_type": "stream",
     "text": [
      "its 08th of the month:05 of the year:2022\n"
     ]
    }
   ],
   "source": [
    "date=\"08/05/2022\"\n",
    "today_s_date=date[0:2]\n",
    "month=date[3:5]\n",
    "year=date[6:]\n",
    "print(f\"its {today_s_date}th of the month:{month} of the year:{year}\")"
   ]
  },
  {
   "cell_type": "code",
   "execution_count": 60,
   "id": "04761f75",
   "metadata": {},
   "outputs": [
    {
     "name": "stdout",
     "output_type": "stream",
     "text": [
      "input a string:niraj\n",
      "niraj jarin\n"
     ]
    }
   ],
   "source": [
    "date=input(\"input a string:\")\n",
    "reverse=date[::-1]\n",
    "print(date,reverse)"
   ]
  },
  {
   "cell_type": "code",
   "execution_count": 3,
   "id": "e5865891",
   "metadata": {},
   "outputs": [
    {
     "name": "stdout",
     "output_type": "stream",
     "text": [
      "Integer division:3%2=1\n"
     ]
    }
   ],
   "source": [
    "a=2\n",
    "b=3\n",
    "niraj_division= b%a\n",
    "print(f\"Integer division:{b}%{a}={niraj_division}\")"
   ]
  },
  {
   "cell_type": "code",
   "execution_count": 4,
   "id": "489c3635",
   "metadata": {},
   "outputs": [
    {
     "name": "stdout",
     "output_type": "stream",
     "text": [
      "a is not divisible by b\n"
     ]
    }
   ],
   "source": [
    "a=22\n",
    "b=9\n",
    "if a%b==0:\n",
    "    print(\"a is divisible by b\")\n",
    "else:\n",
    "    print(\"a is not divisible by b\")"
   ]
  },
  {
   "cell_type": "code",
   "execution_count": 6,
   "id": "6e5d926d",
   "metadata": {},
   "outputs": [
    {
     "name": "stdout",
     "output_type": "stream",
     "text": [
      "enter you nameradar\n",
      "input string is paliddrome\n"
     ]
    }
   ],
   "source": [
    "data=input(\"enter you name\")\n",
    "reverse=data[::-1]\n",
    "if data==reverse:\n",
    "    print(\"input string is paliddrome\")\n",
    "else:\n",
    "    print(\"input string is not paliddrome\")\n",
    "    "
   ]
  },
  {
   "cell_type": "code",
   "execution_count": 10,
   "id": "8ad6b241",
   "metadata": {},
   "outputs": [
    {
     "data": {
      "text/plain": [
       "'Niraj'"
      ]
     },
     "execution_count": 10,
     "metadata": {},
     "output_type": "execute_result"
    }
   ],
   "source": [
    "name=\"niraj\"\n",
    "\n",
    "\"N\"+ name[1:]"
   ]
  },
  {
   "cell_type": "code",
   "execution_count": 14,
   "id": "8220604f",
   "metadata": {},
   "outputs": [
    {
     "data": {
      "text/plain": [
       "'Niraj'"
      ]
     },
     "execution_count": 14,
     "metadata": {},
     "output_type": "execute_result"
    }
   ],
   "source": [
    "name=\"niraj\"\n",
    "name=name.replace(\"n\",\"N\")\n",
    "name"
   ]
  },
  {
   "cell_type": "code",
   "execution_count": 15,
   "id": "32979686",
   "metadata": {},
   "outputs": [
    {
     "data": {
      "text/plain": [
       "5"
      ]
     },
     "execution_count": 15,
     "metadata": {},
     "output_type": "execute_result"
    }
   ],
   "source": [
    "len(name)"
   ]
  },
  {
   "cell_type": "code",
   "execution_count": 17,
   "id": "f1b33319",
   "metadata": {},
   "outputs": [
    {
     "data": {
      "text/plain": [
       "'Niraj'"
      ]
     },
     "execution_count": 17,
     "metadata": {},
     "output_type": "execute_result"
    }
   ],
   "source": [
    "name.count(\"n\")\n",
    "name"
   ]
  },
  {
   "cell_type": "code",
   "execution_count": 18,
   "id": "5c908716",
   "metadata": {},
   "outputs": [
    {
     "data": {
      "text/plain": [
       "'s*u*n*n*y* *m*o*n*d*a*l* *a*n*d* *g*u*d*i*y*a* *r*a*n*i'"
      ]
     },
     "execution_count": 18,
     "metadata": {},
     "output_type": "execute_result"
    }
   ],
   "source": [
    "name=\"sunny mondal and gudiya rani\"\n",
    "\"*\".join(name)"
   ]
  },
  {
   "cell_type": "code",
   "execution_count": 19,
   "id": "f7b8137f",
   "metadata": {},
   "outputs": [
    {
     "data": {
      "text/plain": [
       "'s_u_n_n_y_ _m_o_n_d_a_l_ _a_n_d_ _g_u_d_i_y_a_ _r_a_n_i'"
      ]
     },
     "execution_count": 19,
     "metadata": {},
     "output_type": "execute_result"
    }
   ],
   "source": [
    "\"_\".join(name)"
   ]
  },
  {
   "cell_type": "code",
   "execution_count": 20,
   "id": "9d9937bb",
   "metadata": {},
   "outputs": [
    {
     "data": {
      "text/plain": [
       "'s|u|n|n|y| |m|o|n|d|a|l| |a|n|d| |g|u|d|i|y|a| |r|a|n|i'"
      ]
     },
     "execution_count": 20,
     "metadata": {},
     "output_type": "execute_result"
    }
   ],
   "source": [
    "\"|\".join(name)"
   ]
  },
  {
   "cell_type": "code",
   "execution_count": 21,
   "id": "c721fab1",
   "metadata": {},
   "outputs": [
    {
     "data": {
      "text/plain": [
       "'sunny|mondal|and|gudiya|rani'"
      ]
     },
     "execution_count": 21,
     "metadata": {},
     "output_type": "execute_result"
    }
   ],
   "source": [
    "name.replace(\" \",\"|\")"
   ]
  },
  {
   "cell_type": "code",
   "execution_count": 23,
   "id": "916e34e0",
   "metadata": {},
   "outputs": [
    {
     "data": {
      "text/plain": [
       "'##niraj###'"
      ]
     },
     "execution_count": 23,
     "metadata": {},
     "output_type": "execute_result"
    }
   ],
   "source": [
    "name=\"niraj\"\n",
    "name.center(10,\"#\")"
   ]
  },
  {
   "cell_type": "code",
   "execution_count": 25,
   "id": "b609f7b0",
   "metadata": {},
   "outputs": [
    {
     "data": {
      "text/plain": [
       "False"
      ]
     },
     "execution_count": 25,
     "metadata": {},
     "output_type": "execute_result"
    }
   ],
   "source": [
    "name.isupper()"
   ]
  },
  {
   "cell_type": "code",
   "execution_count": 26,
   "id": "2f5d7e74",
   "metadata": {},
   "outputs": [
    {
     "data": {
      "text/plain": [
       "'niraj'"
      ]
     },
     "execution_count": 26,
     "metadata": {},
     "output_type": "execute_result"
    }
   ],
   "source": [
    "name.lower()"
   ]
  },
  {
   "cell_type": "code",
   "execution_count": 27,
   "id": "666c236e",
   "metadata": {},
   "outputs": [
    {
     "data": {
      "text/plain": [
       "'NIRAJ'"
      ]
     },
     "execution_count": 27,
     "metadata": {},
     "output_type": "execute_result"
    }
   ],
   "source": [
    "name.upper()"
   ]
  },
  {
   "cell_type": "code",
   "execution_count": null,
   "id": "84721501",
   "metadata": {},
   "outputs": [],
   "source": [
    "name=input(\"enter your name\")\n",
    "print(f\"user input:{name}\")\n",
    "if name.istittle():\n",
    "    print(f\"user has given correct input\")\n",
    "elif name.isspace():\n",
    "    print(f\"wrong input please try again!!\")\n",
    "else:\n",
    "    print(f\"wrong input we need to autocorrect it\")\n",
    "    name=name.tittle()\n",
    "    print(f\"correct output:{name}\")"
   ]
  },
  {
   "cell_type": "code",
   "execution_count": null,
   "id": "94e7eeeb",
   "metadata": {},
   "outputs": [],
   "source": [
    "name = input(\"Enter your name: \")\n",
    "\n",
    "print(f\"user input: {name}\")\n",
    "\n",
    "if name.istitle():\n",
    "  print(f\"user has given correct input\")\n",
    "elif name.isspace():\n",
    "  print(f\"Wrong input please try again!!\")\n",
    "else:\n",
    "  print(f\"wrong input we need to autocorrect it\")\n",
    "  name = name.title()\n",
    "  print(f\"Correct output: {name}\")"
   ]
  },
  {
   "cell_type": "code",
   "execution_count": null,
   "id": "98cc2ac3",
   "metadata": {},
   "outputs": [],
   "source": [
    "phone_number=\"6388229930\"\n",
    "phone_number.isdigit()"
   ]
  },
  {
   "cell_type": "code",
   "execution_count": null,
   "id": "d26d6cf0",
   "metadata": {},
   "outputs": [],
   "source": [
    "\n"
   ]
  },
  {
   "cell_type": "code",
   "execution_count": 30,
   "id": "c46dc05f",
   "metadata": {},
   "outputs": [
    {
     "data": {
      "text/plain": [
       "True"
      ]
     },
     "execution_count": 30,
     "metadata": {},
     "output_type": "execute_result"
    }
   ],
   "source": [
    "phone_number=\"6388229930\"\n",
    "phone_number.isdigit()"
   ]
  },
  {
   "cell_type": "code",
   "execution_count": 31,
   "id": "b2ec60a4",
   "metadata": {},
   "outputs": [
    {
     "data": {
      "text/plain": [
       "False"
      ]
     },
     "execution_count": 31,
     "metadata": {},
     "output_type": "execute_result"
    }
   ],
   "source": [
    "phone_number=\"6388aa229930\"\n",
    "phone_number.isdigit()"
   ]
  },
  {
   "cell_type": "code",
   "execution_count": 34,
   "id": "8b02dae5",
   "metadata": {},
   "outputs": [
    {
     "name": "stdout",
     "output_type": "stream",
     "text": [
      "enter your phone no:000000000000000\n",
      "invalid input\n"
     ]
    }
   ],
   "source": [
    "phone_number=input(\"enter your phone no:\")\n",
    "if phone_number.isdigit() and len(phone_number)==10 and phone_number!=\"00000000000\":\n",
    "    print(f\"user input is correct\")\n",
    "else:\n",
    "    print(\"invalid input\")"
   ]
  },
  {
   "cell_type": "code",
   "execution_count": 37,
   "id": "b96077be",
   "metadata": {},
   "outputs": [
    {
     "name": "stdout",
     "output_type": "stream",
     "text": [
      "enter your Indian phone no:6388229930\n"
     ]
    },
    {
     "ename": "AttributeError",
     "evalue": "'str' object has no attribute 'startswitch'",
     "output_type": "error",
     "traceback": [
      "\u001b[1;31m---------------------------------------------------------------------------\u001b[0m",
      "\u001b[1;31mAttributeError\u001b[0m                            Traceback (most recent call last)",
      "\u001b[1;32m~\\AppData\\Local\\Temp/ipykernel_1868/3576676629.py\u001b[0m in \u001b[0;36m<module>\u001b[1;34m\u001b[0m\n\u001b[0;32m      1\u001b[0m \u001b[0ma\u001b[0m\u001b[1;33m=\u001b[0m\u001b[0minput\u001b[0m\u001b[1;33m(\u001b[0m\u001b[1;34m\"enter your Indian phone no:\"\u001b[0m\u001b[1;33m)\u001b[0m\u001b[1;33m\u001b[0m\u001b[1;33m\u001b[0m\u001b[0m\n\u001b[1;32m----> 2\u001b[1;33m \u001b[1;32mif\u001b[0m \u001b[0mphone_number\u001b[0m\u001b[1;33m.\u001b[0m\u001b[0mstartswitch\u001b[0m\u001b[1;33m(\u001b[0m\u001b[1;34m\"+91\"\u001b[0m\u001b[1;33m)\u001b[0m \u001b[1;32mand\u001b[0m \u001b[0mphone_number\u001b[0m\u001b[1;33m[\u001b[0m\u001b[1;36m1\u001b[0m\u001b[1;33m:\u001b[0m\u001b[1;33m]\u001b[0m\u001b[1;33m.\u001b[0m\u001b[0misdigit\u001b[0m\u001b[1;33m(\u001b[0m\u001b[1;33m)\u001b[0m \u001b[1;32mand\u001b[0m \u001b[0mlen\u001b[0m\u001b[1;33m(\u001b[0m\u001b[0mphone_number\u001b[0m\u001b[1;33m)\u001b[0m\u001b[1;33m==\u001b[0m\u001b[1;36m13\u001b[0m\u001b[1;33m:\u001b[0m\u001b[1;33m\u001b[0m\u001b[1;33m\u001b[0m\u001b[0m\n\u001b[0m\u001b[0;32m      3\u001b[0m     \u001b[0mprint\u001b[0m\u001b[1;33m(\u001b[0m\u001b[1;34mf\"user input is correct\"\u001b[0m\u001b[1;33m)\u001b[0m\u001b[1;33m\u001b[0m\u001b[1;33m\u001b[0m\u001b[0m\n\u001b[0;32m      4\u001b[0m \u001b[1;32melse\u001b[0m\u001b[1;33m:\u001b[0m\u001b[1;33m\u001b[0m\u001b[1;33m\u001b[0m\u001b[0m\n\u001b[0;32m      5\u001b[0m     \u001b[0mprint\u001b[0m\u001b[1;33m(\u001b[0m\u001b[1;34m\"Invalid input\"\u001b[0m\u001b[1;33m)\u001b[0m\u001b[1;33m\u001b[0m\u001b[1;33m\u001b[0m\u001b[0m\n",
      "\u001b[1;31mAttributeError\u001b[0m: 'str' object has no attribute 'startswitch'"
     ]
    }
   ],
   "source": [
    "a=input(\"enter your Indian phone no:\")\n",
    "if phone_number.startswitch(\"+91\") and phone_number[1:].isdigit() and len(phone_number)==13:\n",
    "    print(f\"user input is correct\")\n",
    "else:\n",
    "    print(\"Invalid input\")\n"
   ]
  },
  {
   "cell_type": "code",
   "execution_count": 39,
   "id": "bcf3aca2",
   "metadata": {},
   "outputs": [
    {
     "name": "stdout",
     "output_type": "stream",
     "text": [
      "cart total:142\n",
      "pay amount:99.4\n"
     ]
    }
   ],
   "source": [
    "total_amount=10+20+62+50\n",
    "print(f\"cart total:{total_amount}\")\n",
    "if total_amount>100:\n",
    "    price_after_discount=total_amount*70/100\n",
    "    print(f\"pay amount:{price_after_discount}\")\n",
    "elif total_amount<=100 and total_amount>=50:\n",
    "    price_after_discount=total_amount*80/100\n",
    "else:\n",
    "    print(f\"pay amount:{total_amount}\")\n",
    "    "
   ]
  },
  {
   "cell_type": "code",
   "execution_count": 42,
   "id": "fa3228be",
   "metadata": {},
   "outputs": [
    {
     "name": "stdout",
     "output_type": "stream",
     "text": [
      "enter a number:-1\n",
      "Negatie number\n"
     ]
    }
   ],
   "source": [
    "val=float(input(\"enter a number:\"))\n",
    "if val>=0:\n",
    "    if val==0:\n",
    "        print(\"Its zero\")\n",
    "    else:\n",
    "        print(\"Its a positie no\")\n",
    "else:\n",
    "    print(\"Negatie number\")"
   ]
  },
  {
   "cell_type": "code",
   "execution_count": 44,
   "id": "23b0284e",
   "metadata": {},
   "outputs": [
    {
     "name": "stdout",
     "output_type": "stream",
     "text": [
      "enter a number55\n",
      "no\n"
     ]
    }
   ],
   "source": [
    "val=float(input(\"enter a number\"))\n",
    "if val>99:\n",
    "    print(\"yes\")\n",
    "else:\n",
    "     print(\"no\")\n"
   ]
  },
  {
   "cell_type": "code",
   "execution_count": 51,
   "id": "6e1ed2fc",
   "metadata": {},
   "outputs": [
    {
     "name": "stdout",
     "output_type": "stream",
     "text": [
      "Your score is:100,cutoff:400\n",
      "I will attempt next year\n",
      "Your score is:200,cutoff:400\n",
      "I will attempt next year\n",
      "Your score is:300,cutoff:400\n",
      "I will attempt next year\n",
      "Your score is:399,cutoff:400\n",
      "I will attempt next year\n"
     ]
    }
   ],
   "source": [
    "\n",
    "\n",
    "cutoff=400\n",
    "scores=[100,200,300,399,500]\n",
    "year=0\n",
    "while scores[year]<cutoff:\n",
    "    print(f\"Your score is:{scores[year]},cutoff:{cutoff}\")\n",
    "    print(\"I will attempt next year\")\n",
    "    year=year+1"
   ]
  },
  {
   "cell_type": "code",
   "execution_count": 52,
   "id": "cb758782",
   "metadata": {},
   "outputs": [
    {
     "data": {
      "text/plain": [
       "500"
      ]
     },
     "execution_count": 52,
     "metadata": {},
     "output_type": "execute_result"
    }
   ],
   "source": [
    "year=4\n",
    "scores[year]"
   ]
  },
  {
   "cell_type": "code",
   "execution_count": 53,
   "id": "448fdab9",
   "metadata": {},
   "outputs": [
    {
     "name": "stdout",
     "output_type": "stream",
     "text": [
      "current sum:10\n",
      "current sum:20\n",
      "current sum:30\n",
      "current sum:40\n",
      "current sum:50\n",
      "current sum:60\n",
      "current sum:70\n",
      "current sum:80\n",
      "current sum:90\n",
      "current sum:100\n"
     ]
    }
   ],
   "source": [
    "notes=10\n",
    "i=1\n",
    "while i<=notes:\n",
    "    print(f\"current sum:{i*10}\")\n",
    "    i=i+1"
   ]
  },
  {
   "cell_type": "code",
   "execution_count": 55,
   "id": "2ca53426",
   "metadata": {},
   "outputs": [
    {
     "name": "stdout",
     "output_type": "stream",
     "text": [
      "0\n",
      "1\n",
      "2\n",
      "3\n",
      "4\n",
      "5\n",
      "6\n",
      "7\n",
      "8\n",
      "9\n"
     ]
    }
   ],
   "source": [
    "for i in range(0,10):\n",
    "    print(i)"
   ]
  },
  {
   "cell_type": "code",
   "execution_count": 59,
   "id": "f7b5b8ce",
   "metadata": {},
   "outputs": [
    {
     "name": "stdout",
     "output_type": "stream",
     "text": [
      "the no is odd\n"
     ]
    }
   ],
   "source": [
    "num=3\n",
    "if num%2==0:\n",
    "    print(\"the no is even\")\n",
    "else:\n",
    "    print(\"the no is odd\")"
   ]
  },
  {
   "cell_type": "code",
   "execution_count": 60,
   "id": "4a0eea17",
   "metadata": {},
   "outputs": [
    {
     "name": "stdout",
     "output_type": "stream",
     "text": [
      "a is greater than all 3 nos:120\n"
     ]
    }
   ],
   "source": [
    "a,b,c=120,13,15\n",
    "if a>b:\n",
    "    if a>c:\n",
    "        print(f\"a is greater than all 3 nos:{a}\")"
   ]
  },
  {
   "cell_type": "code",
   "execution_count": 63,
   "id": "936f1489",
   "metadata": {},
   "outputs": [
    {
     "name": "stdout",
     "output_type": "stream",
     "text": [
      "attendence criteria met?:False\n",
      "assignment criteria met?:False\n",
      "sports criteeria met?:True\n",
      "The student is not eligible\n"
     ]
    }
   ],
   "source": [
    "attendence=70\n",
    "assignment_submitted=40\n",
    "sports_player=True\n",
    "print(f\"attendence criteria met?:{attendence>=75}\")\n",
    "print(f\"assignment criteria met?:{assignment_submitted>=70}\")\n",
    "print(f\"sports criteeria met?:{sports_player}\")\n",
    "if attendence>=75 and assignment_submitted>=70:\n",
    "    if sports_player:\n",
    "        print(\"The student is eligible to appear in final exam\")\n",
    "    else:\n",
    "        print(\"The student is eligible to appear in final exam\")\n",
    "else: \n",
    "    print(\"The student is not eligible\")"
   ]
  },
  {
   "cell_type": "code",
   "execution_count": 1,
   "id": "aebcc977",
   "metadata": {},
   "outputs": [
    {
     "data": {
      "text/html": [
       "<div>\n",
       "<style scoped>\n",
       "    .dataframe tbody tr th:only-of-type {\n",
       "        vertical-align: middle;\n",
       "    }\n",
       "\n",
       "    .dataframe tbody tr th {\n",
       "        vertical-align: top;\n",
       "    }\n",
       "\n",
       "    .dataframe thead th {\n",
       "        text-align: right;\n",
       "    }\n",
       "</style>\n",
       "<table border=\"1\" class=\"dataframe\">\n",
       "  <thead>\n",
       "    <tr style=\"text-align: right;\">\n",
       "      <th></th>\n",
       "      <th>id</th>\n",
       "      <th>location_id</th>\n",
       "      <th>address_1</th>\n",
       "      <th>address_2</th>\n",
       "      <th>city</th>\n",
       "      <th>state_province</th>\n",
       "      <th>postal_code</th>\n",
       "      <th>country</th>\n",
       "    </tr>\n",
       "  </thead>\n",
       "  <tbody>\n",
       "    <tr>\n",
       "      <th>0</th>\n",
       "      <td>1</td>\n",
       "      <td>1</td>\n",
       "      <td>2600 Middlefield Road</td>\n",
       "      <td>NaN</td>\n",
       "      <td>Redwood City</td>\n",
       "      <td>CA</td>\n",
       "      <td>94063</td>\n",
       "      <td>US</td>\n",
       "    </tr>\n",
       "    <tr>\n",
       "      <th>1</th>\n",
       "      <td>2</td>\n",
       "      <td>2</td>\n",
       "      <td>24 Second Avenue</td>\n",
       "      <td>NaN</td>\n",
       "      <td>San Mateo</td>\n",
       "      <td>CA</td>\n",
       "      <td>94401</td>\n",
       "      <td>US</td>\n",
       "    </tr>\n",
       "    <tr>\n",
       "      <th>2</th>\n",
       "      <td>3</td>\n",
       "      <td>3</td>\n",
       "      <td>24 Second Avenue</td>\n",
       "      <td>NaN</td>\n",
       "      <td>San Mateo</td>\n",
       "      <td>CA</td>\n",
       "      <td>94403</td>\n",
       "      <td>US</td>\n",
       "    </tr>\n",
       "    <tr>\n",
       "      <th>3</th>\n",
       "      <td>4</td>\n",
       "      <td>4</td>\n",
       "      <td>24 Second Avenue</td>\n",
       "      <td>NaN</td>\n",
       "      <td>San Mateo</td>\n",
       "      <td>CA</td>\n",
       "      <td>94401</td>\n",
       "      <td>US</td>\n",
       "    </tr>\n",
       "    <tr>\n",
       "      <th>4</th>\n",
       "      <td>5</td>\n",
       "      <td>5</td>\n",
       "      <td>24 Second Avenue</td>\n",
       "      <td>NaN</td>\n",
       "      <td>San Mateo</td>\n",
       "      <td>CA</td>\n",
       "      <td>94401</td>\n",
       "      <td>US</td>\n",
       "    </tr>\n",
       "    <tr>\n",
       "      <th>5</th>\n",
       "      <td>6</td>\n",
       "      <td>6</td>\n",
       "      <td>800 Middle Avenue</td>\n",
       "      <td>NaN</td>\n",
       "      <td>Menlo Park</td>\n",
       "      <td>CA</td>\n",
       "      <td>94025-9881</td>\n",
       "      <td>US</td>\n",
       "    </tr>\n",
       "    <tr>\n",
       "      <th>6</th>\n",
       "      <td>7</td>\n",
       "      <td>7</td>\n",
       "      <td>500 Arbor Road</td>\n",
       "      <td>NaN</td>\n",
       "      <td>Menlo Park</td>\n",
       "      <td>CA</td>\n",
       "      <td>94025</td>\n",
       "      <td>US</td>\n",
       "    </tr>\n",
       "    <tr>\n",
       "      <th>7</th>\n",
       "      <td>8</td>\n",
       "      <td>8</td>\n",
       "      <td>800 Middle Avenue</td>\n",
       "      <td>NaN</td>\n",
       "      <td>Menlo Park</td>\n",
       "      <td>CA</td>\n",
       "      <td>94025-9881</td>\n",
       "      <td>US</td>\n",
       "    </tr>\n",
       "    <tr>\n",
       "      <th>8</th>\n",
       "      <td>9</td>\n",
       "      <td>9</td>\n",
       "      <td>2510 Middlefield Road</td>\n",
       "      <td>NaN</td>\n",
       "      <td>Redwood City</td>\n",
       "      <td>CA</td>\n",
       "      <td>94063</td>\n",
       "      <td>US</td>\n",
       "    </tr>\n",
       "    <tr>\n",
       "      <th>9</th>\n",
       "      <td>10</td>\n",
       "      <td>10</td>\n",
       "      <td>1044 Middlefield Road</td>\n",
       "      <td>NaN</td>\n",
       "      <td>Redwood City</td>\n",
       "      <td>CA</td>\n",
       "      <td>94063</td>\n",
       "      <td>US</td>\n",
       "    </tr>\n",
       "    <tr>\n",
       "      <th>10</th>\n",
       "      <td>11</td>\n",
       "      <td>11</td>\n",
       "      <td>2140 Euclid Avenue.</td>\n",
       "      <td>NaN</td>\n",
       "      <td>Redwood City</td>\n",
       "      <td>CA</td>\n",
       "      <td>94061</td>\n",
       "      <td>US</td>\n",
       "    </tr>\n",
       "    <tr>\n",
       "      <th>11</th>\n",
       "      <td>12</td>\n",
       "      <td>12</td>\n",
       "      <td>1044 Middlefield Road</td>\n",
       "      <td>2nd Floor</td>\n",
       "      <td>Redwood City</td>\n",
       "      <td>CA</td>\n",
       "      <td>94063</td>\n",
       "      <td>US</td>\n",
       "    </tr>\n",
       "    <tr>\n",
       "      <th>12</th>\n",
       "      <td>13</td>\n",
       "      <td>13</td>\n",
       "      <td>399 Marine Parkway.</td>\n",
       "      <td>NaN</td>\n",
       "      <td>Redwood City</td>\n",
       "      <td>CA</td>\n",
       "      <td>94065</td>\n",
       "      <td>US</td>\n",
       "    </tr>\n",
       "    <tr>\n",
       "      <th>13</th>\n",
       "      <td>14</td>\n",
       "      <td>14</td>\n",
       "      <td>660 Veterans Blvd.</td>\n",
       "      <td>NaN</td>\n",
       "      <td>Redwood City</td>\n",
       "      <td>CA</td>\n",
       "      <td>94063</td>\n",
       "      <td>US</td>\n",
       "    </tr>\n",
       "    <tr>\n",
       "      <th>14</th>\n",
       "      <td>15</td>\n",
       "      <td>15</td>\n",
       "      <td>1500 Valencia Street</td>\n",
       "      <td>NaN</td>\n",
       "      <td>San Francisco</td>\n",
       "      <td>CA</td>\n",
       "      <td>94110</td>\n",
       "      <td>US</td>\n",
       "    </tr>\n",
       "    <tr>\n",
       "      <th>15</th>\n",
       "      <td>16</td>\n",
       "      <td>16</td>\n",
       "      <td>1161 South Bernardo</td>\n",
       "      <td>NaN</td>\n",
       "      <td>Sunnyvale</td>\n",
       "      <td>CA</td>\n",
       "      <td>94087</td>\n",
       "      <td>US</td>\n",
       "    </tr>\n",
       "    <tr>\n",
       "      <th>16</th>\n",
       "      <td>17</td>\n",
       "      <td>17</td>\n",
       "      <td>409 South Spruce Avenue</td>\n",
       "      <td>NaN</td>\n",
       "      <td>South San Francisco</td>\n",
       "      <td>CA</td>\n",
       "      <td>94080</td>\n",
       "      <td>US</td>\n",
       "    </tr>\n",
       "    <tr>\n",
       "      <th>17</th>\n",
       "      <td>18</td>\n",
       "      <td>18</td>\n",
       "      <td>114 Fifth Avenue</td>\n",
       "      <td>NaN</td>\n",
       "      <td>Redwood City</td>\n",
       "      <td>CA</td>\n",
       "      <td>94063</td>\n",
       "      <td>US</td>\n",
       "    </tr>\n",
       "    <tr>\n",
       "      <th>18</th>\n",
       "      <td>19</td>\n",
       "      <td>19</td>\n",
       "      <td>19 West 39th Avenue</td>\n",
       "      <td>NaN</td>\n",
       "      <td>San Mateo</td>\n",
       "      <td>CA</td>\n",
       "      <td>94403</td>\n",
       "      <td>US</td>\n",
       "    </tr>\n",
       "    <tr>\n",
       "      <th>19</th>\n",
       "      <td>20</td>\n",
       "      <td>21</td>\n",
       "      <td>123 El Camino Real</td>\n",
       "      <td>NaN</td>\n",
       "      <td>Belmont</td>\n",
       "      <td>CA</td>\n",
       "      <td>94002</td>\n",
       "      <td>US</td>\n",
       "    </tr>\n",
       "    <tr>\n",
       "      <th>20</th>\n",
       "      <td>21</td>\n",
       "      <td>22</td>\n",
       "      <td>2013 Avenue of the fellows</td>\n",
       "      <td>Suite 100</td>\n",
       "      <td>San Francisco</td>\n",
       "      <td>CA</td>\n",
       "      <td>94103</td>\n",
       "      <td>US</td>\n",
       "    </tr>\n",
       "  </tbody>\n",
       "</table>\n",
       "</div>"
      ],
      "text/plain": [
       "    id  location_id                   address_1  address_2  \\\n",
       "0    1            1       2600 Middlefield Road        NaN   \n",
       "1    2            2            24 Second Avenue        NaN   \n",
       "2    3            3            24 Second Avenue        NaN   \n",
       "3    4            4            24 Second Avenue        NaN   \n",
       "4    5            5            24 Second Avenue        NaN   \n",
       "5    6            6           800 Middle Avenue        NaN   \n",
       "6    7            7              500 Arbor Road        NaN   \n",
       "7    8            8           800 Middle Avenue        NaN   \n",
       "8    9            9       2510 Middlefield Road        NaN   \n",
       "9   10           10       1044 Middlefield Road        NaN   \n",
       "10  11           11         2140 Euclid Avenue.        NaN   \n",
       "11  12           12       1044 Middlefield Road  2nd Floor   \n",
       "12  13           13         399 Marine Parkway.        NaN   \n",
       "13  14           14          660 Veterans Blvd.        NaN   \n",
       "14  15           15        1500 Valencia Street        NaN   \n",
       "15  16           16         1161 South Bernardo        NaN   \n",
       "16  17           17     409 South Spruce Avenue        NaN   \n",
       "17  18           18            114 Fifth Avenue        NaN   \n",
       "18  19           19         19 West 39th Avenue        NaN   \n",
       "19  20           21          123 El Camino Real        NaN   \n",
       "20  21           22  2013 Avenue of the fellows  Suite 100   \n",
       "\n",
       "                   city state_province postal_code country  \n",
       "0          Redwood City             CA       94063      US  \n",
       "1             San Mateo             CA       94401      US  \n",
       "2             San Mateo             CA       94403      US  \n",
       "3             San Mateo             CA       94401      US  \n",
       "4             San Mateo             CA       94401      US  \n",
       "5            Menlo Park             CA  94025-9881      US  \n",
       "6            Menlo Park             CA       94025      US  \n",
       "7            Menlo Park             CA  94025-9881      US  \n",
       "8          Redwood City             CA       94063      US  \n",
       "9          Redwood City             CA       94063      US  \n",
       "10         Redwood City             CA       94061      US  \n",
       "11         Redwood City             CA       94063      US  \n",
       "12         Redwood City             CA       94065      US  \n",
       "13         Redwood City             CA       94063      US  \n",
       "14        San Francisco             CA       94110      US  \n",
       "15            Sunnyvale             CA       94087      US  \n",
       "16  South San Francisco             CA       94080      US  \n",
       "17         Redwood City             CA       94063      US  \n",
       "18            San Mateo             CA       94403      US  \n",
       "19              Belmont             CA       94002      US  \n",
       "20        San Francisco             CA       94103      US  "
      ]
     },
     "execution_count": 1,
     "metadata": {},
     "output_type": "execute_result"
    }
   ],
   "source": [
    "import pandas as pd\n",
    "data=pd.read_csv('addresses.csv')\n",
    "data"
   ]
  },
  {
   "cell_type": "code",
   "execution_count": 2,
   "id": "cbabf5ef",
   "metadata": {},
   "outputs": [
    {
     "data": {
      "text/plain": [
       "pandas.core.frame.DataFrame"
      ]
     },
     "execution_count": 2,
     "metadata": {},
     "output_type": "execute_result"
    }
   ],
   "source": [
    "type(data)"
   ]
  },
  {
   "cell_type": "code",
   "execution_count": 3,
   "id": "722966b2",
   "metadata": {},
   "outputs": [
    {
     "data": {
      "text/html": [
       "<div>\n",
       "<style scoped>\n",
       "    .dataframe tbody tr th:only-of-type {\n",
       "        vertical-align: middle;\n",
       "    }\n",
       "\n",
       "    .dataframe tbody tr th {\n",
       "        vertical-align: top;\n",
       "    }\n",
       "\n",
       "    .dataframe thead th {\n",
       "        text-align: right;\n",
       "    }\n",
       "</style>\n",
       "<table border=\"1\" class=\"dataframe\">\n",
       "  <thead>\n",
       "    <tr style=\"text-align: right;\">\n",
       "      <th></th>\n",
       "      <th>id</th>\n",
       "      <th>location_id</th>\n",
       "      <th>address_1</th>\n",
       "      <th>address_2</th>\n",
       "      <th>city</th>\n",
       "      <th>state_province</th>\n",
       "      <th>postal_code</th>\n",
       "      <th>country</th>\n",
       "    </tr>\n",
       "  </thead>\n",
       "  <tbody>\n",
       "    <tr>\n",
       "      <th>0</th>\n",
       "      <td>1</td>\n",
       "      <td>1</td>\n",
       "      <td>2600 Middlefield Road</td>\n",
       "      <td>NaN</td>\n",
       "      <td>Redwood City</td>\n",
       "      <td>CA</td>\n",
       "      <td>94063</td>\n",
       "      <td>US</td>\n",
       "    </tr>\n",
       "    <tr>\n",
       "      <th>1</th>\n",
       "      <td>2</td>\n",
       "      <td>2</td>\n",
       "      <td>24 Second Avenue</td>\n",
       "      <td>NaN</td>\n",
       "      <td>San Mateo</td>\n",
       "      <td>CA</td>\n",
       "      <td>94401</td>\n",
       "      <td>US</td>\n",
       "    </tr>\n",
       "    <tr>\n",
       "      <th>2</th>\n",
       "      <td>3</td>\n",
       "      <td>3</td>\n",
       "      <td>24 Second Avenue</td>\n",
       "      <td>NaN</td>\n",
       "      <td>San Mateo</td>\n",
       "      <td>CA</td>\n",
       "      <td>94403</td>\n",
       "      <td>US</td>\n",
       "    </tr>\n",
       "    <tr>\n",
       "      <th>3</th>\n",
       "      <td>4</td>\n",
       "      <td>4</td>\n",
       "      <td>24 Second Avenue</td>\n",
       "      <td>NaN</td>\n",
       "      <td>San Mateo</td>\n",
       "      <td>CA</td>\n",
       "      <td>94401</td>\n",
       "      <td>US</td>\n",
       "    </tr>\n",
       "    <tr>\n",
       "      <th>4</th>\n",
       "      <td>5</td>\n",
       "      <td>5</td>\n",
       "      <td>24 Second Avenue</td>\n",
       "      <td>NaN</td>\n",
       "      <td>San Mateo</td>\n",
       "      <td>CA</td>\n",
       "      <td>94401</td>\n",
       "      <td>US</td>\n",
       "    </tr>\n",
       "  </tbody>\n",
       "</table>\n",
       "</div>"
      ],
      "text/plain": [
       "   id  location_id              address_1 address_2          city  \\\n",
       "0   1            1  2600 Middlefield Road       NaN  Redwood City   \n",
       "1   2            2       24 Second Avenue       NaN     San Mateo   \n",
       "2   3            3       24 Second Avenue       NaN     San Mateo   \n",
       "3   4            4       24 Second Avenue       NaN     San Mateo   \n",
       "4   5            5       24 Second Avenue       NaN     San Mateo   \n",
       "\n",
       "  state_province postal_code country  \n",
       "0             CA       94063      US  \n",
       "1             CA       94401      US  \n",
       "2             CA       94403      US  \n",
       "3             CA       94401      US  \n",
       "4             CA       94401      US  "
      ]
     },
     "execution_count": 3,
     "metadata": {},
     "output_type": "execute_result"
    }
   ],
   "source": [
    "data.head()"
   ]
  },
  {
   "cell_type": "code",
   "execution_count": 4,
   "id": "4879197f",
   "metadata": {},
   "outputs": [
    {
     "data": {
      "text/html": [
       "<div>\n",
       "<style scoped>\n",
       "    .dataframe tbody tr th:only-of-type {\n",
       "        vertical-align: middle;\n",
       "    }\n",
       "\n",
       "    .dataframe tbody tr th {\n",
       "        vertical-align: top;\n",
       "    }\n",
       "\n",
       "    .dataframe thead th {\n",
       "        text-align: right;\n",
       "    }\n",
       "</style>\n",
       "<table border=\"1\" class=\"dataframe\">\n",
       "  <thead>\n",
       "    <tr style=\"text-align: right;\">\n",
       "      <th></th>\n",
       "      <th>id</th>\n",
       "      <th>location_id</th>\n",
       "      <th>address_1</th>\n",
       "      <th>address_2</th>\n",
       "      <th>city</th>\n",
       "      <th>state_province</th>\n",
       "      <th>postal_code</th>\n",
       "      <th>country</th>\n",
       "    </tr>\n",
       "  </thead>\n",
       "  <tbody>\n",
       "    <tr>\n",
       "      <th>0</th>\n",
       "      <td>1</td>\n",
       "      <td>1</td>\n",
       "      <td>2600 Middlefield Road</td>\n",
       "      <td>NaN</td>\n",
       "      <td>Redwood City</td>\n",
       "      <td>CA</td>\n",
       "      <td>94063</td>\n",
       "      <td>US</td>\n",
       "    </tr>\n",
       "    <tr>\n",
       "      <th>1</th>\n",
       "      <td>2</td>\n",
       "      <td>2</td>\n",
       "      <td>24 Second Avenue</td>\n",
       "      <td>NaN</td>\n",
       "      <td>San Mateo</td>\n",
       "      <td>CA</td>\n",
       "      <td>94401</td>\n",
       "      <td>US</td>\n",
       "    </tr>\n",
       "    <tr>\n",
       "      <th>2</th>\n",
       "      <td>3</td>\n",
       "      <td>3</td>\n",
       "      <td>24 Second Avenue</td>\n",
       "      <td>NaN</td>\n",
       "      <td>San Mateo</td>\n",
       "      <td>CA</td>\n",
       "      <td>94403</td>\n",
       "      <td>US</td>\n",
       "    </tr>\n",
       "    <tr>\n",
       "      <th>3</th>\n",
       "      <td>4</td>\n",
       "      <td>4</td>\n",
       "      <td>24 Second Avenue</td>\n",
       "      <td>NaN</td>\n",
       "      <td>San Mateo</td>\n",
       "      <td>CA</td>\n",
       "      <td>94401</td>\n",
       "      <td>US</td>\n",
       "    </tr>\n",
       "    <tr>\n",
       "      <th>4</th>\n",
       "      <td>5</td>\n",
       "      <td>5</td>\n",
       "      <td>24 Second Avenue</td>\n",
       "      <td>NaN</td>\n",
       "      <td>San Mateo</td>\n",
       "      <td>CA</td>\n",
       "      <td>94401</td>\n",
       "      <td>US</td>\n",
       "    </tr>\n",
       "    <tr>\n",
       "      <th>5</th>\n",
       "      <td>6</td>\n",
       "      <td>6</td>\n",
       "      <td>800 Middle Avenue</td>\n",
       "      <td>NaN</td>\n",
       "      <td>Menlo Park</td>\n",
       "      <td>CA</td>\n",
       "      <td>94025-9881</td>\n",
       "      <td>US</td>\n",
       "    </tr>\n",
       "    <tr>\n",
       "      <th>6</th>\n",
       "      <td>7</td>\n",
       "      <td>7</td>\n",
       "      <td>500 Arbor Road</td>\n",
       "      <td>NaN</td>\n",
       "      <td>Menlo Park</td>\n",
       "      <td>CA</td>\n",
       "      <td>94025</td>\n",
       "      <td>US</td>\n",
       "    </tr>\n",
       "  </tbody>\n",
       "</table>\n",
       "</div>"
      ],
      "text/plain": [
       "   id  location_id              address_1 address_2          city  \\\n",
       "0   1            1  2600 Middlefield Road       NaN  Redwood City   \n",
       "1   2            2       24 Second Avenue       NaN     San Mateo   \n",
       "2   3            3       24 Second Avenue       NaN     San Mateo   \n",
       "3   4            4       24 Second Avenue       NaN     San Mateo   \n",
       "4   5            5       24 Second Avenue       NaN     San Mateo   \n",
       "5   6            6      800 Middle Avenue       NaN    Menlo Park   \n",
       "6   7            7         500 Arbor Road       NaN    Menlo Park   \n",
       "\n",
       "  state_province postal_code country  \n",
       "0             CA       94063      US  \n",
       "1             CA       94401      US  \n",
       "2             CA       94403      US  \n",
       "3             CA       94401      US  \n",
       "4             CA       94401      US  \n",
       "5             CA  94025-9881      US  \n",
       "6             CA       94025      US  "
      ]
     },
     "execution_count": 4,
     "metadata": {},
     "output_type": "execute_result"
    }
   ],
   "source": [
    "data.head(7)"
   ]
  },
  {
   "cell_type": "code",
   "execution_count": 5,
   "id": "33acf27e",
   "metadata": {},
   "outputs": [
    {
     "data": {
      "text/html": [
       "<div>\n",
       "<style scoped>\n",
       "    .dataframe tbody tr th:only-of-type {\n",
       "        vertical-align: middle;\n",
       "    }\n",
       "\n",
       "    .dataframe tbody tr th {\n",
       "        vertical-align: top;\n",
       "    }\n",
       "\n",
       "    .dataframe thead th {\n",
       "        text-align: right;\n",
       "    }\n",
       "</style>\n",
       "<table border=\"1\" class=\"dataframe\">\n",
       "  <thead>\n",
       "    <tr style=\"text-align: right;\">\n",
       "      <th></th>\n",
       "      <th>id</th>\n",
       "      <th>location_id</th>\n",
       "      <th>address_1</th>\n",
       "      <th>address_2</th>\n",
       "      <th>city</th>\n",
       "      <th>state_province</th>\n",
       "      <th>postal_code</th>\n",
       "      <th>country</th>\n",
       "    </tr>\n",
       "  </thead>\n",
       "  <tbody>\n",
       "    <tr>\n",
       "      <th>16</th>\n",
       "      <td>17</td>\n",
       "      <td>17</td>\n",
       "      <td>409 South Spruce Avenue</td>\n",
       "      <td>NaN</td>\n",
       "      <td>South San Francisco</td>\n",
       "      <td>CA</td>\n",
       "      <td>94080</td>\n",
       "      <td>US</td>\n",
       "    </tr>\n",
       "    <tr>\n",
       "      <th>17</th>\n",
       "      <td>18</td>\n",
       "      <td>18</td>\n",
       "      <td>114 Fifth Avenue</td>\n",
       "      <td>NaN</td>\n",
       "      <td>Redwood City</td>\n",
       "      <td>CA</td>\n",
       "      <td>94063</td>\n",
       "      <td>US</td>\n",
       "    </tr>\n",
       "    <tr>\n",
       "      <th>18</th>\n",
       "      <td>19</td>\n",
       "      <td>19</td>\n",
       "      <td>19 West 39th Avenue</td>\n",
       "      <td>NaN</td>\n",
       "      <td>San Mateo</td>\n",
       "      <td>CA</td>\n",
       "      <td>94403</td>\n",
       "      <td>US</td>\n",
       "    </tr>\n",
       "    <tr>\n",
       "      <th>19</th>\n",
       "      <td>20</td>\n",
       "      <td>21</td>\n",
       "      <td>123 El Camino Real</td>\n",
       "      <td>NaN</td>\n",
       "      <td>Belmont</td>\n",
       "      <td>CA</td>\n",
       "      <td>94002</td>\n",
       "      <td>US</td>\n",
       "    </tr>\n",
       "    <tr>\n",
       "      <th>20</th>\n",
       "      <td>21</td>\n",
       "      <td>22</td>\n",
       "      <td>2013 Avenue of the fellows</td>\n",
       "      <td>Suite 100</td>\n",
       "      <td>San Francisco</td>\n",
       "      <td>CA</td>\n",
       "      <td>94103</td>\n",
       "      <td>US</td>\n",
       "    </tr>\n",
       "  </tbody>\n",
       "</table>\n",
       "</div>"
      ],
      "text/plain": [
       "    id  location_id                   address_1  address_2  \\\n",
       "16  17           17     409 South Spruce Avenue        NaN   \n",
       "17  18           18            114 Fifth Avenue        NaN   \n",
       "18  19           19         19 West 39th Avenue        NaN   \n",
       "19  20           21          123 El Camino Real        NaN   \n",
       "20  21           22  2013 Avenue of the fellows  Suite 100   \n",
       "\n",
       "                   city state_province postal_code country  \n",
       "16  South San Francisco             CA       94080      US  \n",
       "17         Redwood City             CA       94063      US  \n",
       "18            San Mateo             CA       94403      US  \n",
       "19              Belmont             CA       94002      US  \n",
       "20        San Francisco             CA       94103      US  "
      ]
     },
     "execution_count": 5,
     "metadata": {},
     "output_type": "execute_result"
    }
   ],
   "source": [
    "data.tail()"
   ]
  },
  {
   "cell_type": "code",
   "execution_count": 6,
   "id": "18a9b11f",
   "metadata": {},
   "outputs": [
    {
     "data": {
      "text/html": [
       "<div>\n",
       "<style scoped>\n",
       "    .dataframe tbody tr th:only-of-type {\n",
       "        vertical-align: middle;\n",
       "    }\n",
       "\n",
       "    .dataframe tbody tr th {\n",
       "        vertical-align: top;\n",
       "    }\n",
       "\n",
       "    .dataframe thead th {\n",
       "        text-align: right;\n",
       "    }\n",
       "</style>\n",
       "<table border=\"1\" class=\"dataframe\">\n",
       "  <thead>\n",
       "    <tr style=\"text-align: right;\">\n",
       "      <th></th>\n",
       "      <th>id</th>\n",
       "      <th>location_id</th>\n",
       "      <th>address_1</th>\n",
       "      <th>address_2</th>\n",
       "      <th>city</th>\n",
       "      <th>state_province</th>\n",
       "      <th>postal_code</th>\n",
       "      <th>country</th>\n",
       "    </tr>\n",
       "  </thead>\n",
       "  <tbody>\n",
       "    <tr>\n",
       "      <th>15</th>\n",
       "      <td>16</td>\n",
       "      <td>16</td>\n",
       "      <td>1161 South Bernardo</td>\n",
       "      <td>NaN</td>\n",
       "      <td>Sunnyvale</td>\n",
       "      <td>CA</td>\n",
       "      <td>94087</td>\n",
       "      <td>US</td>\n",
       "    </tr>\n",
       "    <tr>\n",
       "      <th>16</th>\n",
       "      <td>17</td>\n",
       "      <td>17</td>\n",
       "      <td>409 South Spruce Avenue</td>\n",
       "      <td>NaN</td>\n",
       "      <td>South San Francisco</td>\n",
       "      <td>CA</td>\n",
       "      <td>94080</td>\n",
       "      <td>US</td>\n",
       "    </tr>\n",
       "    <tr>\n",
       "      <th>17</th>\n",
       "      <td>18</td>\n",
       "      <td>18</td>\n",
       "      <td>114 Fifth Avenue</td>\n",
       "      <td>NaN</td>\n",
       "      <td>Redwood City</td>\n",
       "      <td>CA</td>\n",
       "      <td>94063</td>\n",
       "      <td>US</td>\n",
       "    </tr>\n",
       "    <tr>\n",
       "      <th>18</th>\n",
       "      <td>19</td>\n",
       "      <td>19</td>\n",
       "      <td>19 West 39th Avenue</td>\n",
       "      <td>NaN</td>\n",
       "      <td>San Mateo</td>\n",
       "      <td>CA</td>\n",
       "      <td>94403</td>\n",
       "      <td>US</td>\n",
       "    </tr>\n",
       "    <tr>\n",
       "      <th>19</th>\n",
       "      <td>20</td>\n",
       "      <td>21</td>\n",
       "      <td>123 El Camino Real</td>\n",
       "      <td>NaN</td>\n",
       "      <td>Belmont</td>\n",
       "      <td>CA</td>\n",
       "      <td>94002</td>\n",
       "      <td>US</td>\n",
       "    </tr>\n",
       "    <tr>\n",
       "      <th>20</th>\n",
       "      <td>21</td>\n",
       "      <td>22</td>\n",
       "      <td>2013 Avenue of the fellows</td>\n",
       "      <td>Suite 100</td>\n",
       "      <td>San Francisco</td>\n",
       "      <td>CA</td>\n",
       "      <td>94103</td>\n",
       "      <td>US</td>\n",
       "    </tr>\n",
       "  </tbody>\n",
       "</table>\n",
       "</div>"
      ],
      "text/plain": [
       "    id  location_id                   address_1  address_2  \\\n",
       "15  16           16         1161 South Bernardo        NaN   \n",
       "16  17           17     409 South Spruce Avenue        NaN   \n",
       "17  18           18            114 Fifth Avenue        NaN   \n",
       "18  19           19         19 West 39th Avenue        NaN   \n",
       "19  20           21          123 El Camino Real        NaN   \n",
       "20  21           22  2013 Avenue of the fellows  Suite 100   \n",
       "\n",
       "                   city state_province postal_code country  \n",
       "15            Sunnyvale             CA       94087      US  \n",
       "16  South San Francisco             CA       94080      US  \n",
       "17         Redwood City             CA       94063      US  \n",
       "18            San Mateo             CA       94403      US  \n",
       "19              Belmont             CA       94002      US  \n",
       "20        San Francisco             CA       94103      US  "
      ]
     },
     "execution_count": 6,
     "metadata": {},
     "output_type": "execute_result"
    }
   ],
   "source": [
    "data.tail(6)"
   ]
  },
  {
   "cell_type": "code",
   "execution_count": 7,
   "id": "d253d004",
   "metadata": {},
   "outputs": [
    {
     "data": {
      "text/plain": [
       "Index(['id', 'location_id', 'address_1', 'address_2', 'city', 'state_province',\n",
       "       'postal_code', 'country'],\n",
       "      dtype='object')"
      ]
     },
     "execution_count": 7,
     "metadata": {},
     "output_type": "execute_result"
    }
   ],
   "source": [
    "data.columns"
   ]
  },
  {
   "cell_type": "code",
   "execution_count": 8,
   "id": "74541a78",
   "metadata": {},
   "outputs": [
    {
     "data": {
      "text/plain": [
       "pandas.core.series.Series"
      ]
     },
     "execution_count": 8,
     "metadata": {},
     "output_type": "execute_result"
    }
   ],
   "source": [
    "type(data['state_province'])"
   ]
  },
  {
   "cell_type": "code",
   "execution_count": 9,
   "id": "6eaceb35",
   "metadata": {},
   "outputs": [
    {
     "data": {
      "text/plain": [
       "0          2600 Middlefield Road\n",
       "1               24 Second Avenue\n",
       "2               24 Second Avenue\n",
       "3               24 Second Avenue\n",
       "4               24 Second Avenue\n",
       "5              800 Middle Avenue\n",
       "6                 500 Arbor Road\n",
       "7              800 Middle Avenue\n",
       "8          2510 Middlefield Road\n",
       "9          1044 Middlefield Road\n",
       "10           2140 Euclid Avenue.\n",
       "11         1044 Middlefield Road\n",
       "12           399 Marine Parkway.\n",
       "13            660 Veterans Blvd.\n",
       "14          1500 Valencia Street\n",
       "15           1161 South Bernardo\n",
       "16       409 South Spruce Avenue\n",
       "17              114 Fifth Avenue\n",
       "18           19 West 39th Avenue\n",
       "19            123 El Camino Real\n",
       "20    2013 Avenue of the fellows\n",
       "Name: address_1, dtype: object"
      ]
     },
     "execution_count": 9,
     "metadata": {},
     "output_type": "execute_result"
    }
   ],
   "source": [
    "data['address_1']"
   ]
  },
  {
   "cell_type": "code",
   "execution_count": 11,
   "id": "14b47c87",
   "metadata": {},
   "outputs": [
    {
     "data": {
      "text/html": [
       "<div>\n",
       "<style scoped>\n",
       "    .dataframe tbody tr th:only-of-type {\n",
       "        vertical-align: middle;\n",
       "    }\n",
       "\n",
       "    .dataframe tbody tr th {\n",
       "        vertical-align: top;\n",
       "    }\n",
       "\n",
       "    .dataframe thead th {\n",
       "        text-align: right;\n",
       "    }\n",
       "</style>\n",
       "<table border=\"1\" class=\"dataframe\">\n",
       "  <thead>\n",
       "    <tr style=\"text-align: right;\">\n",
       "      <th></th>\n",
       "      <th>id</th>\n",
       "      <th>address_1</th>\n",
       "    </tr>\n",
       "  </thead>\n",
       "  <tbody>\n",
       "    <tr>\n",
       "      <th>0</th>\n",
       "      <td>1</td>\n",
       "      <td>2600 Middlefield Road</td>\n",
       "    </tr>\n",
       "    <tr>\n",
       "      <th>1</th>\n",
       "      <td>2</td>\n",
       "      <td>24 Second Avenue</td>\n",
       "    </tr>\n",
       "    <tr>\n",
       "      <th>2</th>\n",
       "      <td>3</td>\n",
       "      <td>24 Second Avenue</td>\n",
       "    </tr>\n",
       "    <tr>\n",
       "      <th>3</th>\n",
       "      <td>4</td>\n",
       "      <td>24 Second Avenue</td>\n",
       "    </tr>\n",
       "    <tr>\n",
       "      <th>4</th>\n",
       "      <td>5</td>\n",
       "      <td>24 Second Avenue</td>\n",
       "    </tr>\n",
       "    <tr>\n",
       "      <th>5</th>\n",
       "      <td>6</td>\n",
       "      <td>800 Middle Avenue</td>\n",
       "    </tr>\n",
       "    <tr>\n",
       "      <th>6</th>\n",
       "      <td>7</td>\n",
       "      <td>500 Arbor Road</td>\n",
       "    </tr>\n",
       "    <tr>\n",
       "      <th>7</th>\n",
       "      <td>8</td>\n",
       "      <td>800 Middle Avenue</td>\n",
       "    </tr>\n",
       "    <tr>\n",
       "      <th>8</th>\n",
       "      <td>9</td>\n",
       "      <td>2510 Middlefield Road</td>\n",
       "    </tr>\n",
       "    <tr>\n",
       "      <th>9</th>\n",
       "      <td>10</td>\n",
       "      <td>1044 Middlefield Road</td>\n",
       "    </tr>\n",
       "    <tr>\n",
       "      <th>10</th>\n",
       "      <td>11</td>\n",
       "      <td>2140 Euclid Avenue.</td>\n",
       "    </tr>\n",
       "    <tr>\n",
       "      <th>11</th>\n",
       "      <td>12</td>\n",
       "      <td>1044 Middlefield Road</td>\n",
       "    </tr>\n",
       "    <tr>\n",
       "      <th>12</th>\n",
       "      <td>13</td>\n",
       "      <td>399 Marine Parkway.</td>\n",
       "    </tr>\n",
       "    <tr>\n",
       "      <th>13</th>\n",
       "      <td>14</td>\n",
       "      <td>660 Veterans Blvd.</td>\n",
       "    </tr>\n",
       "    <tr>\n",
       "      <th>14</th>\n",
       "      <td>15</td>\n",
       "      <td>1500 Valencia Street</td>\n",
       "    </tr>\n",
       "    <tr>\n",
       "      <th>15</th>\n",
       "      <td>16</td>\n",
       "      <td>1161 South Bernardo</td>\n",
       "    </tr>\n",
       "    <tr>\n",
       "      <th>16</th>\n",
       "      <td>17</td>\n",
       "      <td>409 South Spruce Avenue</td>\n",
       "    </tr>\n",
       "    <tr>\n",
       "      <th>17</th>\n",
       "      <td>18</td>\n",
       "      <td>114 Fifth Avenue</td>\n",
       "    </tr>\n",
       "    <tr>\n",
       "      <th>18</th>\n",
       "      <td>19</td>\n",
       "      <td>19 West 39th Avenue</td>\n",
       "    </tr>\n",
       "    <tr>\n",
       "      <th>19</th>\n",
       "      <td>20</td>\n",
       "      <td>123 El Camino Real</td>\n",
       "    </tr>\n",
       "    <tr>\n",
       "      <th>20</th>\n",
       "      <td>21</td>\n",
       "      <td>2013 Avenue of the fellows</td>\n",
       "    </tr>\n",
       "  </tbody>\n",
       "</table>\n",
       "</div>"
      ],
      "text/plain": [
       "    id                   address_1\n",
       "0    1       2600 Middlefield Road\n",
       "1    2            24 Second Avenue\n",
       "2    3            24 Second Avenue\n",
       "3    4            24 Second Avenue\n",
       "4    5            24 Second Avenue\n",
       "5    6           800 Middle Avenue\n",
       "6    7              500 Arbor Road\n",
       "7    8           800 Middle Avenue\n",
       "8    9       2510 Middlefield Road\n",
       "9   10       1044 Middlefield Road\n",
       "10  11         2140 Euclid Avenue.\n",
       "11  12       1044 Middlefield Road\n",
       "12  13         399 Marine Parkway.\n",
       "13  14          660 Veterans Blvd.\n",
       "14  15        1500 Valencia Street\n",
       "15  16         1161 South Bernardo\n",
       "16  17     409 South Spruce Avenue\n",
       "17  18            114 Fifth Avenue\n",
       "18  19         19 West 39th Avenue\n",
       "19  20          123 El Camino Real\n",
       "20  21  2013 Avenue of the fellows"
      ]
     },
     "execution_count": 11,
     "metadata": {},
     "output_type": "execute_result"
    }
   ],
   "source": [
    "data[['id','address_1']]"
   ]
  },
  {
   "cell_type": "code",
   "execution_count": 15,
   "id": "04a3b1a0",
   "metadata": {},
   "outputs": [
    {
     "data": {
      "text/html": [
       "<div>\n",
       "<style scoped>\n",
       "    .dataframe tbody tr th:only-of-type {\n",
       "        vertical-align: middle;\n",
       "    }\n",
       "\n",
       "    .dataframe tbody tr th {\n",
       "        vertical-align: top;\n",
       "    }\n",
       "\n",
       "    .dataframe thead th {\n",
       "        text-align: right;\n",
       "    }\n",
       "</style>\n",
       "<table border=\"1\" class=\"dataframe\">\n",
       "  <thead>\n",
       "    <tr style=\"text-align: right;\">\n",
       "      <th></th>\n",
       "      <th>YEAR</th>\n",
       "      <th>Y</th>\n",
       "      <th>W</th>\n",
       "      <th>R</th>\n",
       "      <th>L</th>\n",
       "      <th>K</th>\n",
       "    </tr>\n",
       "  </thead>\n",
       "  <tbody>\n",
       "    <tr>\n",
       "      <th>0</th>\n",
       "      <td>1948</td>\n",
       "      <td>1.214</td>\n",
       "      <td>0.243</td>\n",
       "      <td>0.1454</td>\n",
       "      <td>1.415</td>\n",
       "      <td>0.612</td>\n",
       "    </tr>\n",
       "    <tr>\n",
       "      <th>1</th>\n",
       "      <td>1949</td>\n",
       "      <td>1.354</td>\n",
       "      <td>0.260</td>\n",
       "      <td>0.2181</td>\n",
       "      <td>1.384</td>\n",
       "      <td>0.559</td>\n",
       "    </tr>\n",
       "    <tr>\n",
       "      <th>2</th>\n",
       "      <td>1950</td>\n",
       "      <td>1.569</td>\n",
       "      <td>0.278</td>\n",
       "      <td>0.3157</td>\n",
       "      <td>1.388</td>\n",
       "      <td>0.573</td>\n",
       "    </tr>\n",
       "    <tr>\n",
       "      <th>3</th>\n",
       "      <td>1951</td>\n",
       "      <td>1.948</td>\n",
       "      <td>0.297</td>\n",
       "      <td>0.3940</td>\n",
       "      <td>1.550</td>\n",
       "      <td>0.564</td>\n",
       "    </tr>\n",
       "    <tr>\n",
       "      <th>4</th>\n",
       "      <td>1952</td>\n",
       "      <td>2.265</td>\n",
       "      <td>0.310</td>\n",
       "      <td>0.3559</td>\n",
       "      <td>1.802</td>\n",
       "      <td>0.574</td>\n",
       "    </tr>\n",
       "    <tr>\n",
       "      <th>5</th>\n",
       "      <td>1953</td>\n",
       "      <td>2.731</td>\n",
       "      <td>0.322</td>\n",
       "      <td>0.3593</td>\n",
       "      <td>1.926</td>\n",
       "      <td>0.711</td>\n",
       "    </tr>\n",
       "    <tr>\n",
       "      <th>6</th>\n",
       "      <td>1954</td>\n",
       "      <td>3.025</td>\n",
       "      <td>0.335</td>\n",
       "      <td>0.4025</td>\n",
       "      <td>1.964</td>\n",
       "      <td>0.776</td>\n",
       "    </tr>\n",
       "    <tr>\n",
       "      <th>7</th>\n",
       "      <td>1955</td>\n",
       "      <td>3.562</td>\n",
       "      <td>0.350</td>\n",
       "      <td>0.3961</td>\n",
       "      <td>2.116</td>\n",
       "      <td>0.827</td>\n",
       "    </tr>\n",
       "    <tr>\n",
       "      <th>8</th>\n",
       "      <td>1956</td>\n",
       "      <td>3.979</td>\n",
       "      <td>0.361</td>\n",
       "      <td>0.3822</td>\n",
       "      <td>2.435</td>\n",
       "      <td>0.800</td>\n",
       "    </tr>\n",
       "    <tr>\n",
       "      <th>9</th>\n",
       "      <td>1957</td>\n",
       "      <td>4.420</td>\n",
       "      <td>0.379</td>\n",
       "      <td>0.3045</td>\n",
       "      <td>2.707</td>\n",
       "      <td>0.921</td>\n",
       "    </tr>\n",
       "    <tr>\n",
       "      <th>10</th>\n",
       "      <td>1958</td>\n",
       "      <td>4.563</td>\n",
       "      <td>0.391</td>\n",
       "      <td>0.3284</td>\n",
       "      <td>2.706</td>\n",
       "      <td>1.067</td>\n",
       "    </tr>\n",
       "    <tr>\n",
       "      <th>11</th>\n",
       "      <td>1959</td>\n",
       "      <td>5.385</td>\n",
       "      <td>0.426</td>\n",
       "      <td>0.3856</td>\n",
       "      <td>2.846</td>\n",
       "      <td>1.083</td>\n",
       "    </tr>\n",
       "    <tr>\n",
       "      <th>12</th>\n",
       "      <td>1960</td>\n",
       "      <td>5.554</td>\n",
       "      <td>0.441</td>\n",
       "      <td>0.3193</td>\n",
       "      <td>3.089</td>\n",
       "      <td>1.481</td>\n",
       "    </tr>\n",
       "    <tr>\n",
       "      <th>13</th>\n",
       "      <td>1961</td>\n",
       "      <td>5.465</td>\n",
       "      <td>0.460</td>\n",
       "      <td>0.3079</td>\n",
       "      <td>3.122</td>\n",
       "      <td>1.736</td>\n",
       "    </tr>\n",
       "    <tr>\n",
       "      <th>14</th>\n",
       "      <td>1962</td>\n",
       "      <td>5.825</td>\n",
       "      <td>0.485</td>\n",
       "      <td>0.3783</td>\n",
       "      <td>3.184</td>\n",
       "      <td>1.926</td>\n",
       "    </tr>\n",
       "    <tr>\n",
       "      <th>15</th>\n",
       "      <td>1963</td>\n",
       "      <td>6.876</td>\n",
       "      <td>0.506</td>\n",
       "      <td>0.4180</td>\n",
       "      <td>3.263</td>\n",
       "      <td>2.041</td>\n",
       "    </tr>\n",
       "    <tr>\n",
       "      <th>16</th>\n",
       "      <td>1964</td>\n",
       "      <td>7.823</td>\n",
       "      <td>0.538</td>\n",
       "      <td>0.5163</td>\n",
       "      <td>3.412</td>\n",
       "      <td>1.997</td>\n",
       "    </tr>\n",
       "    <tr>\n",
       "      <th>17</th>\n",
       "      <td>1965</td>\n",
       "      <td>9.120</td>\n",
       "      <td>0.564</td>\n",
       "      <td>0.5879</td>\n",
       "      <td>3.623</td>\n",
       "      <td>2.257</td>\n",
       "    </tr>\n",
       "    <tr>\n",
       "      <th>18</th>\n",
       "      <td>1966</td>\n",
       "      <td>10.512</td>\n",
       "      <td>0.586</td>\n",
       "      <td>0.5369</td>\n",
       "      <td>4.074</td>\n",
       "      <td>2.742</td>\n",
       "    </tr>\n",
       "    <tr>\n",
       "      <th>19</th>\n",
       "      <td>1967</td>\n",
       "      <td>13.020</td>\n",
       "      <td>0.622</td>\n",
       "      <td>0.4443</td>\n",
       "      <td>4.710</td>\n",
       "      <td>3.564</td>\n",
       "    </tr>\n",
       "    <tr>\n",
       "      <th>20</th>\n",
       "      <td>1968</td>\n",
       "      <td>15.261</td>\n",
       "      <td>0.666</td>\n",
       "      <td>0.3052</td>\n",
       "      <td>5.217</td>\n",
       "      <td>4.767</td>\n",
       "    </tr>\n",
       "    <tr>\n",
       "      <th>21</th>\n",
       "      <td>1969</td>\n",
       "      <td>16.313</td>\n",
       "      <td>0.731</td>\n",
       "      <td>0.2332</td>\n",
       "      <td>5.569</td>\n",
       "      <td>6.511</td>\n",
       "    </tr>\n",
       "    <tr>\n",
       "      <th>22</th>\n",
       "      <td>1970</td>\n",
       "      <td>16.002</td>\n",
       "      <td>0.831</td>\n",
       "      <td>0.1883</td>\n",
       "      <td>5.495</td>\n",
       "      <td>7.627</td>\n",
       "    </tr>\n",
       "    <tr>\n",
       "      <th>23</th>\n",
       "      <td>1971</td>\n",
       "      <td>15.876</td>\n",
       "      <td>0.906</td>\n",
       "      <td>0.2023</td>\n",
       "      <td>5.334</td>\n",
       "      <td>8.673</td>\n",
       "    </tr>\n",
       "    <tr>\n",
       "      <th>24</th>\n",
       "      <td>1972</td>\n",
       "      <td>16.662</td>\n",
       "      <td>1.000</td>\n",
       "      <td>0.2506</td>\n",
       "      <td>5.345</td>\n",
       "      <td>8.331</td>\n",
       "    </tr>\n",
       "    <tr>\n",
       "      <th>25</th>\n",
       "      <td>1973</td>\n",
       "      <td>17.014</td>\n",
       "      <td>1.056</td>\n",
       "      <td>0.2668</td>\n",
       "      <td>5.662</td>\n",
       "      <td>8.557</td>\n",
       "    </tr>\n",
       "    <tr>\n",
       "      <th>26</th>\n",
       "      <td>1974</td>\n",
       "      <td>19.305</td>\n",
       "      <td>1.131</td>\n",
       "      <td>0.2664</td>\n",
       "      <td>5.729</td>\n",
       "      <td>9.508</td>\n",
       "    </tr>\n",
       "    <tr>\n",
       "      <th>27</th>\n",
       "      <td>1975</td>\n",
       "      <td>18.721</td>\n",
       "      <td>1.247</td>\n",
       "      <td>0.2301</td>\n",
       "      <td>5.722</td>\n",
       "      <td>9.062</td>\n",
       "    </tr>\n",
       "    <tr>\n",
       "      <th>28</th>\n",
       "      <td>1976</td>\n",
       "      <td>19.250</td>\n",
       "      <td>1.375</td>\n",
       "      <td>0.3452</td>\n",
       "      <td>5.762</td>\n",
       "      <td>8.262</td>\n",
       "    </tr>\n",
       "    <tr>\n",
       "      <th>29</th>\n",
       "      <td>1977</td>\n",
       "      <td>20.647</td>\n",
       "      <td>1.544</td>\n",
       "      <td>0.4508</td>\n",
       "      <td>5.877</td>\n",
       "      <td>7.474</td>\n",
       "    </tr>\n",
       "    <tr>\n",
       "      <th>30</th>\n",
       "      <td>1978</td>\n",
       "      <td>22.726</td>\n",
       "      <td>1.703</td>\n",
       "      <td>0.5877</td>\n",
       "      <td>6.108</td>\n",
       "      <td>7.104</td>\n",
       "    </tr>\n",
       "    <tr>\n",
       "      <th>31</th>\n",
       "      <td>1979</td>\n",
       "      <td>23.619</td>\n",
       "      <td>1.779</td>\n",
       "      <td>0.5346</td>\n",
       "      <td>6.852</td>\n",
       "      <td>6.874</td>\n",
       "    </tr>\n",
       "  </tbody>\n",
       "</table>\n",
       "</div>"
      ],
      "text/plain": [
       "    YEAR       Y      W       R      L      K\n",
       "0   1948   1.214  0.243  0.1454  1.415  0.612\n",
       "1   1949   1.354  0.260  0.2181  1.384  0.559\n",
       "2   1950   1.569  0.278  0.3157  1.388  0.573\n",
       "3   1951   1.948  0.297  0.3940  1.550  0.564\n",
       "4   1952   2.265  0.310  0.3559  1.802  0.574\n",
       "5   1953   2.731  0.322  0.3593  1.926  0.711\n",
       "6   1954   3.025  0.335  0.4025  1.964  0.776\n",
       "7   1955   3.562  0.350  0.3961  2.116  0.827\n",
       "8   1956   3.979  0.361  0.3822  2.435  0.800\n",
       "9   1957   4.420  0.379  0.3045  2.707  0.921\n",
       "10  1958   4.563  0.391  0.3284  2.706  1.067\n",
       "11  1959   5.385  0.426  0.3856  2.846  1.083\n",
       "12  1960   5.554  0.441  0.3193  3.089  1.481\n",
       "13  1961   5.465  0.460  0.3079  3.122  1.736\n",
       "14  1962   5.825  0.485  0.3783  3.184  1.926\n",
       "15  1963   6.876  0.506  0.4180  3.263  2.041\n",
       "16  1964   7.823  0.538  0.5163  3.412  1.997\n",
       "17  1965   9.120  0.564  0.5879  3.623  2.257\n",
       "18  1966  10.512  0.586  0.5369  4.074  2.742\n",
       "19  1967  13.020  0.622  0.4443  4.710  3.564\n",
       "20  1968  15.261  0.666  0.3052  5.217  4.767\n",
       "21  1969  16.313  0.731  0.2332  5.569  6.511\n",
       "22  1970  16.002  0.831  0.1883  5.495  7.627\n",
       "23  1971  15.876  0.906  0.2023  5.334  8.673\n",
       "24  1972  16.662  1.000  0.2506  5.345  8.331\n",
       "25  1973  17.014  1.056  0.2668  5.662  8.557\n",
       "26  1974  19.305  1.131  0.2664  5.729  9.508\n",
       "27  1975  18.721  1.247  0.2301  5.722  9.062\n",
       "28  1976  19.250  1.375  0.3452  5.762  8.262\n",
       "29  1977  20.647  1.544  0.4508  5.877  7.474\n",
       "30  1978  22.726  1.703  0.5877  6.108  7.104\n",
       "31  1979  23.619  1.779  0.5346  6.852  6.874"
      ]
     },
     "execution_count": 15,
     "metadata": {},
     "output_type": "execute_result"
    }
   ],
   "source": [
    "pd.read_excel(\"airline1.xls\")"
   ]
  },
  {
   "cell_type": "code",
   "execution_count": 16,
   "id": "8e0c55fd",
   "metadata": {},
   "outputs": [
    {
     "data": {
      "text/html": [
       "<div>\n",
       "<style scoped>\n",
       "    .dataframe tbody tr th:only-of-type {\n",
       "        vertical-align: middle;\n",
       "    }\n",
       "\n",
       "    .dataframe tbody tr th {\n",
       "        vertical-align: top;\n",
       "    }\n",
       "\n",
       "    .dataframe thead th {\n",
       "        text-align: right;\n",
       "    }\n",
       "</style>\n",
       "<table border=\"1\" class=\"dataframe\">\n",
       "  <thead>\n",
       "    <tr style=\"text-align: right;\">\n",
       "      <th></th>\n",
       "      <th>YEAR</th>\n",
       "      <th>Y</th>\n",
       "      <th>W</th>\n",
       "      <th>R</th>\n",
       "      <th>L</th>\n",
       "      <th>K</th>\n",
       "    </tr>\n",
       "  </thead>\n",
       "  <tbody>\n",
       "    <tr>\n",
       "      <th>0</th>\n",
       "      <td>1948</td>\n",
       "      <td>1.214</td>\n",
       "      <td>0.243</td>\n",
       "      <td>0.1454</td>\n",
       "      <td>1.415</td>\n",
       "      <td>0.612</td>\n",
       "    </tr>\n",
       "    <tr>\n",
       "      <th>1</th>\n",
       "      <td>1949</td>\n",
       "      <td>1.354</td>\n",
       "      <td>0.260</td>\n",
       "      <td>0.2181</td>\n",
       "      <td>1.384</td>\n",
       "      <td>0.559</td>\n",
       "    </tr>\n",
       "    <tr>\n",
       "      <th>2</th>\n",
       "      <td>1950</td>\n",
       "      <td>1.569</td>\n",
       "      <td>0.278</td>\n",
       "      <td>0.3157</td>\n",
       "      <td>1.388</td>\n",
       "      <td>0.573</td>\n",
       "    </tr>\n",
       "    <tr>\n",
       "      <th>3</th>\n",
       "      <td>1951</td>\n",
       "      <td>1.948</td>\n",
       "      <td>0.297</td>\n",
       "      <td>0.3940</td>\n",
       "      <td>1.550</td>\n",
       "      <td>0.564</td>\n",
       "    </tr>\n",
       "    <tr>\n",
       "      <th>4</th>\n",
       "      <td>1952</td>\n",
       "      <td>2.265</td>\n",
       "      <td>0.310</td>\n",
       "      <td>0.3559</td>\n",
       "      <td>1.802</td>\n",
       "      <td>0.574</td>\n",
       "    </tr>\n",
       "    <tr>\n",
       "      <th>5</th>\n",
       "      <td>1953</td>\n",
       "      <td>2.731</td>\n",
       "      <td>0.322</td>\n",
       "      <td>0.3593</td>\n",
       "      <td>1.926</td>\n",
       "      <td>0.711</td>\n",
       "    </tr>\n",
       "    <tr>\n",
       "      <th>6</th>\n",
       "      <td>1954</td>\n",
       "      <td>3.025</td>\n",
       "      <td>0.335</td>\n",
       "      <td>0.4025</td>\n",
       "      <td>1.964</td>\n",
       "      <td>0.776</td>\n",
       "    </tr>\n",
       "    <tr>\n",
       "      <th>7</th>\n",
       "      <td>1955</td>\n",
       "      <td>3.562</td>\n",
       "      <td>0.350</td>\n",
       "      <td>0.3961</td>\n",
       "      <td>2.116</td>\n",
       "      <td>0.827</td>\n",
       "    </tr>\n",
       "    <tr>\n",
       "      <th>8</th>\n",
       "      <td>1956</td>\n",
       "      <td>3.979</td>\n",
       "      <td>0.361</td>\n",
       "      <td>0.3822</td>\n",
       "      <td>2.435</td>\n",
       "      <td>0.800</td>\n",
       "    </tr>\n",
       "  </tbody>\n",
       "</table>\n",
       "</div>"
      ],
      "text/plain": [
       "   YEAR      Y      W       R      L      K\n",
       "0  1948  1.214  0.243  0.1454  1.415  0.612\n",
       "1  1949  1.354  0.260  0.2181  1.384  0.559\n",
       "2  1950  1.569  0.278  0.3157  1.388  0.573\n",
       "3  1951  1.948  0.297  0.3940  1.550  0.564\n",
       "4  1952  2.265  0.310  0.3559  1.802  0.574\n",
       "5  1953  2.731  0.322  0.3593  1.926  0.711\n",
       "6  1954  3.025  0.335  0.4025  1.964  0.776\n",
       "7  1955  3.562  0.350  0.3961  2.116  0.827\n",
       "8  1956  3.979  0.361  0.3822  2.435  0.800"
      ]
     },
     "execution_count": 16,
     "metadata": {},
     "output_type": "execute_result"
    }
   ],
   "source": [
    "pd.read_excel(\"airline1.xls\", sheet_name=\"Sheet2\")"
   ]
  },
  {
   "cell_type": "code",
   "execution_count": 17,
   "id": "2039cc30",
   "metadata": {},
   "outputs": [],
   "source": [
    "data1=pd.read_excel(\"airline1.xls\", sheet_name=\"Sheet3\",header=None)"
   ]
  },
  {
   "cell_type": "code",
   "execution_count": 18,
   "id": "deb5a415",
   "metadata": {},
   "outputs": [
    {
     "data": {
      "text/html": [
       "<div>\n",
       "<style scoped>\n",
       "    .dataframe tbody tr th:only-of-type {\n",
       "        vertical-align: middle;\n",
       "    }\n",
       "\n",
       "    .dataframe tbody tr th {\n",
       "        vertical-align: top;\n",
       "    }\n",
       "\n",
       "    .dataframe thead th {\n",
       "        text-align: right;\n",
       "    }\n",
       "</style>\n",
       "<table border=\"1\" class=\"dataframe\">\n",
       "  <thead>\n",
       "    <tr style=\"text-align: right;\">\n",
       "      <th></th>\n",
       "      <th>0</th>\n",
       "      <th>1</th>\n",
       "      <th>2</th>\n",
       "      <th>3</th>\n",
       "      <th>4</th>\n",
       "      <th>5</th>\n",
       "    </tr>\n",
       "  </thead>\n",
       "  <tbody>\n",
       "    <tr>\n",
       "      <th>0</th>\n",
       "      <td>1960</td>\n",
       "      <td>5.554</td>\n",
       "      <td>0.441</td>\n",
       "      <td>0.3193</td>\n",
       "      <td>3.089</td>\n",
       "      <td>1.481</td>\n",
       "    </tr>\n",
       "    <tr>\n",
       "      <th>1</th>\n",
       "      <td>1961</td>\n",
       "      <td>5.465</td>\n",
       "      <td>0.460</td>\n",
       "      <td>0.3079</td>\n",
       "      <td>3.122</td>\n",
       "      <td>1.736</td>\n",
       "    </tr>\n",
       "    <tr>\n",
       "      <th>2</th>\n",
       "      <td>1962</td>\n",
       "      <td>5.825</td>\n",
       "      <td>0.485</td>\n",
       "      <td>0.3783</td>\n",
       "      <td>3.184</td>\n",
       "      <td>1.926</td>\n",
       "    </tr>\n",
       "    <tr>\n",
       "      <th>3</th>\n",
       "      <td>1963</td>\n",
       "      <td>6.876</td>\n",
       "      <td>0.506</td>\n",
       "      <td>0.4180</td>\n",
       "      <td>3.263</td>\n",
       "      <td>2.041</td>\n",
       "    </tr>\n",
       "    <tr>\n",
       "      <th>4</th>\n",
       "      <td>1964</td>\n",
       "      <td>7.823</td>\n",
       "      <td>0.538</td>\n",
       "      <td>0.5163</td>\n",
       "      <td>3.412</td>\n",
       "      <td>1.997</td>\n",
       "    </tr>\n",
       "    <tr>\n",
       "      <th>5</th>\n",
       "      <td>1965</td>\n",
       "      <td>9.120</td>\n",
       "      <td>0.564</td>\n",
       "      <td>0.5879</td>\n",
       "      <td>3.623</td>\n",
       "      <td>2.257</td>\n",
       "    </tr>\n",
       "    <tr>\n",
       "      <th>6</th>\n",
       "      <td>1966</td>\n",
       "      <td>10.512</td>\n",
       "      <td>0.586</td>\n",
       "      <td>0.5369</td>\n",
       "      <td>4.074</td>\n",
       "      <td>2.742</td>\n",
       "    </tr>\n",
       "    <tr>\n",
       "      <th>7</th>\n",
       "      <td>1967</td>\n",
       "      <td>13.020</td>\n",
       "      <td>0.622</td>\n",
       "      <td>0.4443</td>\n",
       "      <td>4.710</td>\n",
       "      <td>3.564</td>\n",
       "    </tr>\n",
       "    <tr>\n",
       "      <th>8</th>\n",
       "      <td>1968</td>\n",
       "      <td>15.261</td>\n",
       "      <td>0.666</td>\n",
       "      <td>0.3052</td>\n",
       "      <td>5.217</td>\n",
       "      <td>4.767</td>\n",
       "    </tr>\n",
       "    <tr>\n",
       "      <th>9</th>\n",
       "      <td>1969</td>\n",
       "      <td>16.313</td>\n",
       "      <td>0.731</td>\n",
       "      <td>0.2332</td>\n",
       "      <td>5.569</td>\n",
       "      <td>6.511</td>\n",
       "    </tr>\n",
       "    <tr>\n",
       "      <th>10</th>\n",
       "      <td>1970</td>\n",
       "      <td>16.002</td>\n",
       "      <td>0.831</td>\n",
       "      <td>0.1883</td>\n",
       "      <td>5.495</td>\n",
       "      <td>7.627</td>\n",
       "    </tr>\n",
       "    <tr>\n",
       "      <th>11</th>\n",
       "      <td>1971</td>\n",
       "      <td>15.876</td>\n",
       "      <td>0.906</td>\n",
       "      <td>0.2023</td>\n",
       "      <td>5.334</td>\n",
       "      <td>8.673</td>\n",
       "    </tr>\n",
       "    <tr>\n",
       "      <th>12</th>\n",
       "      <td>1972</td>\n",
       "      <td>16.662</td>\n",
       "      <td>1.000</td>\n",
       "      <td>0.2506</td>\n",
       "      <td>5.345</td>\n",
       "      <td>8.331</td>\n",
       "    </tr>\n",
       "    <tr>\n",
       "      <th>13</th>\n",
       "      <td>1973</td>\n",
       "      <td>17.014</td>\n",
       "      <td>1.056</td>\n",
       "      <td>0.2668</td>\n",
       "      <td>5.662</td>\n",
       "      <td>8.557</td>\n",
       "    </tr>\n",
       "    <tr>\n",
       "      <th>14</th>\n",
       "      <td>1974</td>\n",
       "      <td>19.305</td>\n",
       "      <td>1.131</td>\n",
       "      <td>0.2664</td>\n",
       "      <td>5.729</td>\n",
       "      <td>9.508</td>\n",
       "    </tr>\n",
       "    <tr>\n",
       "      <th>15</th>\n",
       "      <td>1975</td>\n",
       "      <td>18.721</td>\n",
       "      <td>1.247</td>\n",
       "      <td>0.2301</td>\n",
       "      <td>5.722</td>\n",
       "      <td>9.062</td>\n",
       "    </tr>\n",
       "  </tbody>\n",
       "</table>\n",
       "</div>"
      ],
      "text/plain": [
       "       0       1      2       3      4      5\n",
       "0   1960   5.554  0.441  0.3193  3.089  1.481\n",
       "1   1961   5.465  0.460  0.3079  3.122  1.736\n",
       "2   1962   5.825  0.485  0.3783  3.184  1.926\n",
       "3   1963   6.876  0.506  0.4180  3.263  2.041\n",
       "4   1964   7.823  0.538  0.5163  3.412  1.997\n",
       "5   1965   9.120  0.564  0.5879  3.623  2.257\n",
       "6   1966  10.512  0.586  0.5369  4.074  2.742\n",
       "7   1967  13.020  0.622  0.4443  4.710  3.564\n",
       "8   1968  15.261  0.666  0.3052  5.217  4.767\n",
       "9   1969  16.313  0.731  0.2332  5.569  6.511\n",
       "10  1970  16.002  0.831  0.1883  5.495  7.627\n",
       "11  1971  15.876  0.906  0.2023  5.334  8.673\n",
       "12  1972  16.662  1.000  0.2506  5.345  8.331\n",
       "13  1973  17.014  1.056  0.2668  5.662  8.557\n",
       "14  1974  19.305  1.131  0.2664  5.729  9.508\n",
       "15  1975  18.721  1.247  0.2301  5.722  9.062"
      ]
     },
     "execution_count": 18,
     "metadata": {},
     "output_type": "execute_result"
    }
   ],
   "source": [
    "data1"
   ]
  },
  {
   "cell_type": "code",
   "execution_count": 19,
   "id": "780e682f",
   "metadata": {},
   "outputs": [],
   "source": [
    "data1.to_csv('test1.csv', index=False)"
   ]
  },
  {
   "cell_type": "code",
   "execution_count": 43,
   "id": "6c2550a7",
   "metadata": {},
   "outputs": [],
   "source": [
    "a=pd.read_csv(\"https://raw.githubusercontent.com/codeforamerica/ohana-api/master/data/sample-csv/addresses.csv\")"
   ]
  },
  {
   "cell_type": "code",
   "execution_count": 44,
   "id": "987d172e",
   "metadata": {},
   "outputs": [
    {
     "data": {
      "text/html": [
       "<div>\n",
       "<style scoped>\n",
       "    .dataframe tbody tr th:only-of-type {\n",
       "        vertical-align: middle;\n",
       "    }\n",
       "\n",
       "    .dataframe tbody tr th {\n",
       "        vertical-align: top;\n",
       "    }\n",
       "\n",
       "    .dataframe thead th {\n",
       "        text-align: right;\n",
       "    }\n",
       "</style>\n",
       "<table border=\"1\" class=\"dataframe\">\n",
       "  <thead>\n",
       "    <tr style=\"text-align: right;\">\n",
       "      <th></th>\n",
       "      <th>id</th>\n",
       "      <th>location_id</th>\n",
       "      <th>address_1</th>\n",
       "      <th>address_2</th>\n",
       "      <th>city</th>\n",
       "      <th>state_province</th>\n",
       "      <th>postal_code</th>\n",
       "      <th>country</th>\n",
       "    </tr>\n",
       "  </thead>\n",
       "  <tbody>\n",
       "    <tr>\n",
       "      <th>0</th>\n",
       "      <td>1</td>\n",
       "      <td>1</td>\n",
       "      <td>2600 Middlefield Road</td>\n",
       "      <td>NaN</td>\n",
       "      <td>Redwood City</td>\n",
       "      <td>CA</td>\n",
       "      <td>94063</td>\n",
       "      <td>US</td>\n",
       "    </tr>\n",
       "    <tr>\n",
       "      <th>1</th>\n",
       "      <td>2</td>\n",
       "      <td>2</td>\n",
       "      <td>24 Second Avenue</td>\n",
       "      <td>NaN</td>\n",
       "      <td>San Mateo</td>\n",
       "      <td>CA</td>\n",
       "      <td>94401</td>\n",
       "      <td>US</td>\n",
       "    </tr>\n",
       "    <tr>\n",
       "      <th>2</th>\n",
       "      <td>3</td>\n",
       "      <td>3</td>\n",
       "      <td>24 Second Avenue</td>\n",
       "      <td>NaN</td>\n",
       "      <td>San Mateo</td>\n",
       "      <td>CA</td>\n",
       "      <td>94403</td>\n",
       "      <td>US</td>\n",
       "    </tr>\n",
       "    <tr>\n",
       "      <th>3</th>\n",
       "      <td>4</td>\n",
       "      <td>4</td>\n",
       "      <td>24 Second Avenue</td>\n",
       "      <td>NaN</td>\n",
       "      <td>San Mateo</td>\n",
       "      <td>CA</td>\n",
       "      <td>94401</td>\n",
       "      <td>US</td>\n",
       "    </tr>\n",
       "    <tr>\n",
       "      <th>4</th>\n",
       "      <td>5</td>\n",
       "      <td>5</td>\n",
       "      <td>24 Second Avenue</td>\n",
       "      <td>NaN</td>\n",
       "      <td>San Mateo</td>\n",
       "      <td>CA</td>\n",
       "      <td>94401</td>\n",
       "      <td>US</td>\n",
       "    </tr>\n",
       "    <tr>\n",
       "      <th>5</th>\n",
       "      <td>6</td>\n",
       "      <td>6</td>\n",
       "      <td>800 Middle Avenue</td>\n",
       "      <td>NaN</td>\n",
       "      <td>Menlo Park</td>\n",
       "      <td>CA</td>\n",
       "      <td>94025-9881</td>\n",
       "      <td>US</td>\n",
       "    </tr>\n",
       "    <tr>\n",
       "      <th>6</th>\n",
       "      <td>7</td>\n",
       "      <td>7</td>\n",
       "      <td>500 Arbor Road</td>\n",
       "      <td>NaN</td>\n",
       "      <td>Menlo Park</td>\n",
       "      <td>CA</td>\n",
       "      <td>94025</td>\n",
       "      <td>US</td>\n",
       "    </tr>\n",
       "    <tr>\n",
       "      <th>7</th>\n",
       "      <td>8</td>\n",
       "      <td>8</td>\n",
       "      <td>800 Middle Avenue</td>\n",
       "      <td>NaN</td>\n",
       "      <td>Menlo Park</td>\n",
       "      <td>CA</td>\n",
       "      <td>94025-9881</td>\n",
       "      <td>US</td>\n",
       "    </tr>\n",
       "    <tr>\n",
       "      <th>8</th>\n",
       "      <td>9</td>\n",
       "      <td>9</td>\n",
       "      <td>2510 Middlefield Road</td>\n",
       "      <td>NaN</td>\n",
       "      <td>Redwood City</td>\n",
       "      <td>CA</td>\n",
       "      <td>94063</td>\n",
       "      <td>US</td>\n",
       "    </tr>\n",
       "    <tr>\n",
       "      <th>9</th>\n",
       "      <td>10</td>\n",
       "      <td>10</td>\n",
       "      <td>1044 Middlefield Road</td>\n",
       "      <td>NaN</td>\n",
       "      <td>Redwood City</td>\n",
       "      <td>CA</td>\n",
       "      <td>94063</td>\n",
       "      <td>US</td>\n",
       "    </tr>\n",
       "    <tr>\n",
       "      <th>10</th>\n",
       "      <td>11</td>\n",
       "      <td>11</td>\n",
       "      <td>2140 Euclid Avenue.</td>\n",
       "      <td>NaN</td>\n",
       "      <td>Redwood City</td>\n",
       "      <td>CA</td>\n",
       "      <td>94061</td>\n",
       "      <td>US</td>\n",
       "    </tr>\n",
       "    <tr>\n",
       "      <th>11</th>\n",
       "      <td>12</td>\n",
       "      <td>12</td>\n",
       "      <td>1044 Middlefield Road</td>\n",
       "      <td>2nd Floor</td>\n",
       "      <td>Redwood City</td>\n",
       "      <td>CA</td>\n",
       "      <td>94063</td>\n",
       "      <td>US</td>\n",
       "    </tr>\n",
       "    <tr>\n",
       "      <th>12</th>\n",
       "      <td>13</td>\n",
       "      <td>13</td>\n",
       "      <td>399 Marine Parkway.</td>\n",
       "      <td>NaN</td>\n",
       "      <td>Redwood City</td>\n",
       "      <td>CA</td>\n",
       "      <td>94065</td>\n",
       "      <td>US</td>\n",
       "    </tr>\n",
       "    <tr>\n",
       "      <th>13</th>\n",
       "      <td>14</td>\n",
       "      <td>14</td>\n",
       "      <td>660 Veterans Blvd.</td>\n",
       "      <td>NaN</td>\n",
       "      <td>Redwood City</td>\n",
       "      <td>CA</td>\n",
       "      <td>94063</td>\n",
       "      <td>US</td>\n",
       "    </tr>\n",
       "    <tr>\n",
       "      <th>14</th>\n",
       "      <td>15</td>\n",
       "      <td>15</td>\n",
       "      <td>1500 Valencia Street</td>\n",
       "      <td>NaN</td>\n",
       "      <td>San Francisco</td>\n",
       "      <td>CA</td>\n",
       "      <td>94110</td>\n",
       "      <td>US</td>\n",
       "    </tr>\n",
       "    <tr>\n",
       "      <th>15</th>\n",
       "      <td>16</td>\n",
       "      <td>16</td>\n",
       "      <td>1161 South Bernardo</td>\n",
       "      <td>NaN</td>\n",
       "      <td>Sunnyvale</td>\n",
       "      <td>CA</td>\n",
       "      <td>94087</td>\n",
       "      <td>US</td>\n",
       "    </tr>\n",
       "    <tr>\n",
       "      <th>16</th>\n",
       "      <td>17</td>\n",
       "      <td>17</td>\n",
       "      <td>409 South Spruce Avenue</td>\n",
       "      <td>NaN</td>\n",
       "      <td>South San Francisco</td>\n",
       "      <td>CA</td>\n",
       "      <td>94080</td>\n",
       "      <td>US</td>\n",
       "    </tr>\n",
       "    <tr>\n",
       "      <th>17</th>\n",
       "      <td>18</td>\n",
       "      <td>18</td>\n",
       "      <td>114 Fifth Avenue</td>\n",
       "      <td>NaN</td>\n",
       "      <td>Redwood City</td>\n",
       "      <td>CA</td>\n",
       "      <td>94063</td>\n",
       "      <td>US</td>\n",
       "    </tr>\n",
       "    <tr>\n",
       "      <th>18</th>\n",
       "      <td>19</td>\n",
       "      <td>19</td>\n",
       "      <td>19 West 39th Avenue</td>\n",
       "      <td>NaN</td>\n",
       "      <td>San Mateo</td>\n",
       "      <td>CA</td>\n",
       "      <td>94403</td>\n",
       "      <td>US</td>\n",
       "    </tr>\n",
       "    <tr>\n",
       "      <th>19</th>\n",
       "      <td>20</td>\n",
       "      <td>21</td>\n",
       "      <td>123 El Camino Real</td>\n",
       "      <td>NaN</td>\n",
       "      <td>Belmont</td>\n",
       "      <td>CA</td>\n",
       "      <td>94002</td>\n",
       "      <td>US</td>\n",
       "    </tr>\n",
       "    <tr>\n",
       "      <th>20</th>\n",
       "      <td>21</td>\n",
       "      <td>22</td>\n",
       "      <td>2013 Avenue of the fellows</td>\n",
       "      <td>Suite 100</td>\n",
       "      <td>San Francisco</td>\n",
       "      <td>CA</td>\n",
       "      <td>94103</td>\n",
       "      <td>US</td>\n",
       "    </tr>\n",
       "  </tbody>\n",
       "</table>\n",
       "</div>"
      ],
      "text/plain": [
       "    id  location_id                   address_1  address_2  \\\n",
       "0    1            1       2600 Middlefield Road        NaN   \n",
       "1    2            2            24 Second Avenue        NaN   \n",
       "2    3            3            24 Second Avenue        NaN   \n",
       "3    4            4            24 Second Avenue        NaN   \n",
       "4    5            5            24 Second Avenue        NaN   \n",
       "5    6            6           800 Middle Avenue        NaN   \n",
       "6    7            7              500 Arbor Road        NaN   \n",
       "7    8            8           800 Middle Avenue        NaN   \n",
       "8    9            9       2510 Middlefield Road        NaN   \n",
       "9   10           10       1044 Middlefield Road        NaN   \n",
       "10  11           11         2140 Euclid Avenue.        NaN   \n",
       "11  12           12       1044 Middlefield Road  2nd Floor   \n",
       "12  13           13         399 Marine Parkway.        NaN   \n",
       "13  14           14          660 Veterans Blvd.        NaN   \n",
       "14  15           15        1500 Valencia Street        NaN   \n",
       "15  16           16         1161 South Bernardo        NaN   \n",
       "16  17           17     409 South Spruce Avenue        NaN   \n",
       "17  18           18            114 Fifth Avenue        NaN   \n",
       "18  19           19         19 West 39th Avenue        NaN   \n",
       "19  20           21          123 El Camino Real        NaN   \n",
       "20  21           22  2013 Avenue of the fellows  Suite 100   \n",
       "\n",
       "                   city state_province postal_code country  \n",
       "0          Redwood City             CA       94063      US  \n",
       "1             San Mateo             CA       94401      US  \n",
       "2             San Mateo             CA       94403      US  \n",
       "3             San Mateo             CA       94401      US  \n",
       "4             San Mateo             CA       94401      US  \n",
       "5            Menlo Park             CA  94025-9881      US  \n",
       "6            Menlo Park             CA       94025      US  \n",
       "7            Menlo Park             CA  94025-9881      US  \n",
       "8          Redwood City             CA       94063      US  \n",
       "9          Redwood City             CA       94063      US  \n",
       "10         Redwood City             CA       94061      US  \n",
       "11         Redwood City             CA       94063      US  \n",
       "12         Redwood City             CA       94065      US  \n",
       "13         Redwood City             CA       94063      US  \n",
       "14        San Francisco             CA       94110      US  \n",
       "15            Sunnyvale             CA       94087      US  \n",
       "16  South San Francisco             CA       94080      US  \n",
       "17         Redwood City             CA       94063      US  \n",
       "18            San Mateo             CA       94403      US  \n",
       "19              Belmont             CA       94002      US  \n",
       "20        San Francisco             CA       94103      US  "
      ]
     },
     "execution_count": 44,
     "metadata": {},
     "output_type": "execute_result"
    }
   ],
   "source": [
    "a"
   ]
  },
  {
   "cell_type": "code",
   "execution_count": null,
   "id": "6fc8e6ee",
   "metadata": {},
   "outputs": [],
   "source": []
  },
  {
   "cell_type": "code",
   "execution_count": null,
   "id": "06851a59",
   "metadata": {},
   "outputs": [],
   "source": []
  },
  {
   "cell_type": "code",
   "execution_count": null,
   "id": "db8b99e0",
   "metadata": {},
   "outputs": [],
   "source": []
  },
  {
   "cell_type": "code",
   "execution_count": null,
   "id": "1fad02b8",
   "metadata": {},
   "outputs": [],
   "source": [
    "\n"
   ]
  },
  {
   "cell_type": "code",
   "execution_count": null,
   "id": "0217ae99",
   "metadata": {},
   "outputs": [],
   "source": []
  },
  {
   "cell_type": "code",
   "execution_count": 34,
   "id": "615140f2",
   "metadata": {},
   "outputs": [
    {
     "name": "stdout",
     "output_type": "stream",
     "text": [
      "       Country         Region\n",
      "0      Algeria         AFRICA\n",
      "1       Angola         AFRICA\n",
      "2        Benin         AFRICA\n",
      "3     Botswana         AFRICA\n",
      "4      Burkina         AFRICA\n",
      "..         ...            ...\n",
      "189   Paraguay  SOUTH AMERICA\n",
      "190       Peru  SOUTH AMERICA\n",
      "191   Suriname  SOUTH AMERICA\n",
      "192    Uruguay  SOUTH AMERICA\n",
      "193  Venezuela  SOUTH AMERICA\n",
      "\n",
      "[194 rows x 2 columns]\n"
     ]
    }
   ],
   "source": [
    "c = pd.read_csv(\"https://raw.githubusercontent.com/cs109/2014_data/master/countries.csv\")\n",
    "\n",
    "print(c)"
   ]
  },
  {
   "cell_type": "code",
   "execution_count": null,
   "id": "f264d0b9",
   "metadata": {},
   "outputs": [],
   "source": [
    "\n"
   ]
  },
  {
   "cell_type": "code",
   "execution_count": null,
   "id": "990bcb82",
   "metadata": {},
   "outputs": [],
   "source": []
  },
  {
   "cell_type": "code",
   "execution_count": 49,
   "id": "cabf2cbb",
   "metadata": {},
   "outputs": [],
   "source": [
    "import numpy as np\n"
   ]
  },
  {
   "cell_type": "code",
   "execution_count": 50,
   "id": "97d93b47",
   "metadata": {},
   "outputs": [
    {
     "data": {
      "text/plain": [
       "range(0, 10)"
      ]
     },
     "execution_count": 50,
     "metadata": {},
     "output_type": "execute_result"
    }
   ],
   "source": [
    "range(10)"
   ]
  },
  {
   "cell_type": "code",
   "execution_count": 51,
   "id": "e4804bf8",
   "metadata": {},
   "outputs": [
    {
     "data": {
      "text/plain": [
       "[0, 1, 2, 3, 4, 5, 6, 7, 8, 9]"
      ]
     },
     "execution_count": 51,
     "metadata": {},
     "output_type": "execute_result"
    }
   ],
   "source": [
    "list(range(10))"
   ]
  },
  {
   "cell_type": "code",
   "execution_count": 52,
   "id": "ca30e818",
   "metadata": {},
   "outputs": [
    {
     "data": {
      "text/plain": [
       "[3, 4, 5, 6, 7, 8, 9]"
      ]
     },
     "execution_count": 52,
     "metadata": {},
     "output_type": "execute_result"
    }
   ],
   "source": [
    "list(range(3,10))"
   ]
  },
  {
   "cell_type": "code",
   "execution_count": 54,
   "id": "7a179a0c",
   "metadata": {},
   "outputs": [
    {
     "data": {
      "text/plain": [
       "array([0, 1, 2, 3, 4, 5, 6, 7, 8, 9])"
      ]
     },
     "execution_count": 54,
     "metadata": {},
     "output_type": "execute_result"
    }
   ],
   "source": [
    "np.arange(10)"
   ]
  },
  {
   "cell_type": "code",
   "execution_count": 55,
   "id": "6f1ef26d",
   "metadata": {},
   "outputs": [
    {
     "data": {
      "text/plain": [
       "array([ 5. ,  4.5,  4. ,  3.5,  3. ,  2.5,  2. ,  1.5,  1. ,  0.5,  0. ,\n",
       "       -0.5, -1. , -1.5, -2. , -2.5, -3. , -3.5])"
      ]
     },
     "execution_count": 55,
     "metadata": {},
     "output_type": "execute_result"
    }
   ],
   "source": [
    "np.arange(5,-4,-.5)"
   ]
  },
  {
   "cell_type": "code",
   "execution_count": 57,
   "id": "9e04b0e9",
   "metadata": {},
   "outputs": [
    {
     "data": {
      "text/plain": [
       "[array([1.        , 1.44444444, 1.88888889, 2.33333333, 2.77777778,\n",
       "        3.22222222, 3.66666667, 4.11111111, 4.55555556, 5.        ]),\n",
       " 0.4444444444444444]"
      ]
     },
     "execution_count": 57,
     "metadata": {},
     "output_type": "execute_result"
    }
   ],
   "source": [
    "list(np.linspace(1,5,10,retstep=True))"
   ]
  },
  {
   "cell_type": "code",
   "execution_count": 58,
   "id": "be974d8f",
   "metadata": {},
   "outputs": [],
   "source": [
    "a1=np.random.randn(2,9)"
   ]
  },
  {
   "cell_type": "code",
   "execution_count": 59,
   "id": "5cdbc995",
   "metadata": {},
   "outputs": [
    {
     "data": {
      "text/plain": [
       "array([[-0.26682523, -1.10104848, -1.46090437,  0.28177932, -1.22473229,\n",
       "         0.76307435, -1.36162003,  0.14065233, -0.74565864],\n",
       "       [-0.13054835,  0.83127369,  1.22646827,  0.89927612,  3.07731135,\n",
       "         0.30846665,  1.08074902, -0.11384094, -1.12398382]])"
      ]
     },
     "execution_count": 59,
     "metadata": {},
     "output_type": "execute_result"
    }
   ],
   "source": [
    "a1"
   ]
  },
  {
   "cell_type": "code",
   "execution_count": 61,
   "id": "fe27ae52",
   "metadata": {},
   "outputs": [
    {
     "data": {
      "text/html": [
       "<div>\n",
       "<style scoped>\n",
       "    .dataframe tbody tr th:only-of-type {\n",
       "        vertical-align: middle;\n",
       "    }\n",
       "\n",
       "    .dataframe tbody tr th {\n",
       "        vertical-align: top;\n",
       "    }\n",
       "\n",
       "    .dataframe thead th {\n",
       "        text-align: right;\n",
       "    }\n",
       "</style>\n",
       "<table border=\"1\" class=\"dataframe\">\n",
       "  <thead>\n",
       "    <tr style=\"text-align: right;\">\n",
       "      <th></th>\n",
       "      <th>0</th>\n",
       "      <th>1</th>\n",
       "      <th>2</th>\n",
       "      <th>3</th>\n",
       "      <th>4</th>\n",
       "      <th>5</th>\n",
       "      <th>6</th>\n",
       "      <th>7</th>\n",
       "      <th>8</th>\n",
       "    </tr>\n",
       "  </thead>\n",
       "  <tbody>\n",
       "    <tr>\n",
       "      <th>0</th>\n",
       "      <td>-0.266825</td>\n",
       "      <td>-1.101048</td>\n",
       "      <td>-1.460904</td>\n",
       "      <td>0.281779</td>\n",
       "      <td>-1.224732</td>\n",
       "      <td>0.763074</td>\n",
       "      <td>-1.361620</td>\n",
       "      <td>0.140652</td>\n",
       "      <td>-0.745659</td>\n",
       "    </tr>\n",
       "    <tr>\n",
       "      <th>1</th>\n",
       "      <td>-0.130548</td>\n",
       "      <td>0.831274</td>\n",
       "      <td>1.226468</td>\n",
       "      <td>0.899276</td>\n",
       "      <td>3.077311</td>\n",
       "      <td>0.308467</td>\n",
       "      <td>1.080749</td>\n",
       "      <td>-0.113841</td>\n",
       "      <td>-1.123984</td>\n",
       "    </tr>\n",
       "  </tbody>\n",
       "</table>\n",
       "</div>"
      ],
      "text/plain": [
       "          0         1         2         3         4         5         6  \\\n",
       "0 -0.266825 -1.101048 -1.460904  0.281779 -1.224732  0.763074 -1.361620   \n",
       "1 -0.130548  0.831274  1.226468  0.899276  3.077311  0.308467  1.080749   \n",
       "\n",
       "          7         8  \n",
       "0  0.140652 -0.745659  \n",
       "1 -0.113841 -1.123984  "
      ]
     },
     "execution_count": 61,
     "metadata": {},
     "output_type": "execute_result"
    }
   ],
   "source": [
    "import pandas as pd\n",
    "pd.DataFrame(a1)"
   ]
  },
  {
   "cell_type": "code",
   "execution_count": 62,
   "id": "c3db6877",
   "metadata": {},
   "outputs": [
    {
     "data": {
      "text/plain": [
       "array([[-0.26682523, -1.10104848, -1.46090437,  0.28177932, -1.22473229,\n",
       "         0.76307435, -1.36162003,  0.14065233, -0.74565864],\n",
       "       [-0.13054835,  0.83127369,  1.22646827,  0.89927612,  3.07731135,\n",
       "         0.30846665,  1.08074902, -0.11384094, -1.12398382]])"
      ]
     },
     "execution_count": 62,
     "metadata": {},
     "output_type": "execute_result"
    }
   ],
   "source": [
    "a1"
   ]
  },
  {
   "cell_type": "code",
   "execution_count": null,
   "id": "621a138b",
   "metadata": {},
   "outputs": [],
   "source": [
    "\n"
   ]
  },
  {
   "cell_type": "code",
   "execution_count": 64,
   "id": "fea1d559",
   "metadata": {},
   "outputs": [
    {
     "name": "stderr",
     "output_type": "stream",
     "text": [
      "Matplotlib is building the font cache; this may take a moment.\n"
     ]
    }
   ],
   "source": [
    "import cufflinks as cf\n",
    "import numpy as np\n",
    "import pandas as pd\n",
    "import seaborn as sns\n"
   ]
  },
  {
   "cell_type": "code",
   "execution_count": 65,
   "id": "8cc3d77f",
   "metadata": {},
   "outputs": [],
   "source": [
    "df=pd.DataFrame(np.random.randn(100,3), columns=[\"A\",\"B\",\"C\"])"
   ]
  },
  {
   "cell_type": "code",
   "execution_count": 66,
   "id": "fac0fde0",
   "metadata": {},
   "outputs": [
    {
     "data": {
      "text/html": [
       "<div>\n",
       "<style scoped>\n",
       "    .dataframe tbody tr th:only-of-type {\n",
       "        vertical-align: middle;\n",
       "    }\n",
       "\n",
       "    .dataframe tbody tr th {\n",
       "        vertical-align: top;\n",
       "    }\n",
       "\n",
       "    .dataframe thead th {\n",
       "        text-align: right;\n",
       "    }\n",
       "</style>\n",
       "<table border=\"1\" class=\"dataframe\">\n",
       "  <thead>\n",
       "    <tr style=\"text-align: right;\">\n",
       "      <th></th>\n",
       "      <th>A</th>\n",
       "      <th>B</th>\n",
       "      <th>C</th>\n",
       "    </tr>\n",
       "  </thead>\n",
       "  <tbody>\n",
       "    <tr>\n",
       "      <th>0</th>\n",
       "      <td>1.266800</td>\n",
       "      <td>1.316991</td>\n",
       "      <td>-0.183425</td>\n",
       "    </tr>\n",
       "    <tr>\n",
       "      <th>1</th>\n",
       "      <td>-2.007032</td>\n",
       "      <td>-0.012512</td>\n",
       "      <td>0.096883</td>\n",
       "    </tr>\n",
       "    <tr>\n",
       "      <th>2</th>\n",
       "      <td>-0.362233</td>\n",
       "      <td>-0.241566</td>\n",
       "      <td>0.612905</td>\n",
       "    </tr>\n",
       "    <tr>\n",
       "      <th>3</th>\n",
       "      <td>0.020136</td>\n",
       "      <td>0.641349</td>\n",
       "      <td>-1.237450</td>\n",
       "    </tr>\n",
       "    <tr>\n",
       "      <th>4</th>\n",
       "      <td>0.227400</td>\n",
       "      <td>-2.071426</td>\n",
       "      <td>0.682115</td>\n",
       "    </tr>\n",
       "    <tr>\n",
       "      <th>...</th>\n",
       "      <td>...</td>\n",
       "      <td>...</td>\n",
       "      <td>...</td>\n",
       "    </tr>\n",
       "    <tr>\n",
       "      <th>95</th>\n",
       "      <td>-0.798014</td>\n",
       "      <td>0.688040</td>\n",
       "      <td>1.230293</td>\n",
       "    </tr>\n",
       "    <tr>\n",
       "      <th>96</th>\n",
       "      <td>0.043763</td>\n",
       "      <td>0.457023</td>\n",
       "      <td>-0.007682</td>\n",
       "    </tr>\n",
       "    <tr>\n",
       "      <th>97</th>\n",
       "      <td>-1.188191</td>\n",
       "      <td>0.088161</td>\n",
       "      <td>-1.433856</td>\n",
       "    </tr>\n",
       "    <tr>\n",
       "      <th>98</th>\n",
       "      <td>-0.562981</td>\n",
       "      <td>-0.701457</td>\n",
       "      <td>1.725707</td>\n",
       "    </tr>\n",
       "    <tr>\n",
       "      <th>99</th>\n",
       "      <td>-0.924674</td>\n",
       "      <td>0.401177</td>\n",
       "      <td>-1.620283</td>\n",
       "    </tr>\n",
       "  </tbody>\n",
       "</table>\n",
       "<p>100 rows × 3 columns</p>\n",
       "</div>"
      ],
      "text/plain": [
       "           A         B         C\n",
       "0   1.266800  1.316991 -0.183425\n",
       "1  -2.007032 -0.012512  0.096883\n",
       "2  -0.362233 -0.241566  0.612905\n",
       "3   0.020136  0.641349 -1.237450\n",
       "4   0.227400 -2.071426  0.682115\n",
       "..       ...       ...       ...\n",
       "95 -0.798014  0.688040  1.230293\n",
       "96  0.043763  0.457023 -0.007682\n",
       "97 -1.188191  0.088161 -1.433856\n",
       "98 -0.562981 -0.701457  1.725707\n",
       "99 -0.924674  0.401177 -1.620283\n",
       "\n",
       "[100 rows x 3 columns]"
      ]
     },
     "execution_count": 66,
     "metadata": {},
     "output_type": "execute_result"
    }
   ],
   "source": [
    "df"
   ]
  },
  {
   "cell_type": "code",
   "execution_count": 72,
   "id": "c248f9c0",
   "metadata": {},
   "outputs": [
    {
     "ename": "Exception",
     "evalue": "chart_studio is required outside of offline mode: please run pip install chart_studio",
     "output_type": "error",
     "traceback": [
      "\u001b[1;31m---------------------------------------------------------------------------\u001b[0m",
      "\u001b[1;31mModuleNotFoundError\u001b[0m                       Traceback (most recent call last)",
      "\u001b[1;32m~\\AppData\\Local\\Programs\\Python\\Python310\\lib\\site-packages\\cufflinks\\plotlytools.py\u001b[0m in \u001b[0;36miplot\u001b[1;34m(figure, validate, sharing, filename, online, asImage, asUrl, asPlot, dimensions, display_image, **kwargs)\u001b[0m\n\u001b[0;32m   1430\u001b[0m                 \u001b[1;32mtry\u001b[0m\u001b[1;33m:\u001b[0m\u001b[1;33m\u001b[0m\u001b[1;33m\u001b[0m\u001b[0m\n\u001b[1;32m-> 1431\u001b[1;33m                         \u001b[1;32mimport\u001b[0m \u001b[0mchart_studio\u001b[0m\u001b[1;33m.\u001b[0m\u001b[0mplotly\u001b[0m \u001b[1;32mas\u001b[0m \u001b[0mpy\u001b[0m\u001b[1;33m\u001b[0m\u001b[1;33m\u001b[0m\u001b[0m\n\u001b[0m\u001b[0;32m   1432\u001b[0m                 \u001b[1;32mexcept\u001b[0m\u001b[1;33m:\u001b[0m\u001b[1;33m\u001b[0m\u001b[1;33m\u001b[0m\u001b[0m\n",
      "\u001b[1;31mModuleNotFoundError\u001b[0m: No module named 'chart_studio'",
      "\nDuring handling of the above exception, another exception occurred:\n",
      "\u001b[1;31mException\u001b[0m                                 Traceback (most recent call last)",
      "\u001b[1;32m~\\AppData\\Local\\Temp/ipykernel_9900/523664996.py\u001b[0m in \u001b[0;36m<module>\u001b[1;34m\u001b[0m\n\u001b[1;32m----> 1\u001b[1;33m \u001b[0mdf\u001b[0m\u001b[1;33m[\u001b[0m\u001b[1;33m[\u001b[0m\u001b[1;34m\"A\"\u001b[0m\u001b[1;33m]\u001b[0m\u001b[1;33m]\u001b[0m\u001b[1;33m.\u001b[0m\u001b[0miplot\u001b[0m\u001b[1;33m(\u001b[0m\u001b[1;33m)\u001b[0m\u001b[1;33m\u001b[0m\u001b[1;33m\u001b[0m\u001b[0m\n\u001b[0m\u001b[0;32m      2\u001b[0m \u001b[0mdf\u001b[0m\u001b[1;33m.\u001b[0m\u001b[0miplot\u001b[0m\u001b[1;33m(\u001b[0m\u001b[1;33m)\u001b[0m\u001b[1;33m\u001b[0m\u001b[1;33m\u001b[0m\u001b[0m\n",
      "\u001b[1;32m~\\AppData\\Local\\Programs\\Python\\Python310\\lib\\site-packages\\cufflinks\\plotlytools.py\u001b[0m in \u001b[0;36m_iplot\u001b[1;34m(self, kind, data, layout, filename, sharing, title, xTitle, yTitle, zTitle, theme, colors, colorscale, fill, width, dash, mode, interpolation, symbol, size, barmode, sortbars, bargap, bargroupgap, bins, histnorm, histfunc, orientation, boxpoints, annotations, keys, bestfit, bestfit_colors, mean, mean_colors, categories, x, y, z, text, gridcolor, zerolinecolor, margin, labels, values, secondary_y, secondary_y_title, subplots, shape, error_x, error_y, error_type, locations, lon, lat, asFrame, asDates, asFigure, asImage, dimensions, asPlot, asUrl, online, **kwargs)\u001b[0m\n\u001b[0;32m   1214\u001b[0m                 \u001b[1;32mreturn\u001b[0m \u001b[0mFigure\u001b[0m\u001b[1;33m(\u001b[0m\u001b[0mfigure\u001b[0m\u001b[1;33m)\u001b[0m\u001b[1;33m\u001b[0m\u001b[1;33m\u001b[0m\u001b[0m\n\u001b[0;32m   1215\u001b[0m         \u001b[1;32melse\u001b[0m\u001b[1;33m:\u001b[0m\u001b[1;33m\u001b[0m\u001b[1;33m\u001b[0m\u001b[0m\n\u001b[1;32m-> 1216\u001b[1;33m \t\treturn iplot(figure,validate=validate,sharing=sharing,filename=filename,\n\u001b[0m\u001b[0;32m   1217\u001b[0m                          \u001b[0monline\u001b[0m\u001b[1;33m=\u001b[0m\u001b[0monline\u001b[0m\u001b[1;33m,\u001b[0m\u001b[0masImage\u001b[0m\u001b[1;33m=\u001b[0m\u001b[0masImage\u001b[0m\u001b[1;33m,\u001b[0m\u001b[0masUrl\u001b[0m\u001b[1;33m=\u001b[0m\u001b[0masUrl\u001b[0m\u001b[1;33m,\u001b[0m\u001b[0masPlot\u001b[0m\u001b[1;33m=\u001b[0m\u001b[0masPlot\u001b[0m\u001b[1;33m,\u001b[0m\u001b[1;33m\u001b[0m\u001b[1;33m\u001b[0m\u001b[0m\n\u001b[0;32m   1218\u001b[0m \t\t\t dimensions=dimensions,display_image=kwargs.get('display_image',True))\n",
      "\u001b[1;32m~\\AppData\\Local\\Programs\\Python\\Python310\\lib\\site-packages\\cufflinks\\plotlytools.py\u001b[0m in \u001b[0;36miplot\u001b[1;34m(figure, validate, sharing, filename, online, asImage, asUrl, asPlot, dimensions, display_image, **kwargs)\u001b[0m\n\u001b[0;32m   1431\u001b[0m                         \u001b[1;32mimport\u001b[0m \u001b[0mchart_studio\u001b[0m\u001b[1;33m.\u001b[0m\u001b[0mplotly\u001b[0m \u001b[1;32mas\u001b[0m \u001b[0mpy\u001b[0m\u001b[1;33m\u001b[0m\u001b[1;33m\u001b[0m\u001b[0m\n\u001b[0;32m   1432\u001b[0m                 \u001b[1;32mexcept\u001b[0m\u001b[1;33m:\u001b[0m\u001b[1;33m\u001b[0m\u001b[1;33m\u001b[0m\u001b[0m\n\u001b[1;32m-> 1433\u001b[1;33m \t\t\traise Exception(\"chart_studio is required outside of offline mode: \" \\\n\u001b[0m\u001b[0;32m   1434\u001b[0m                                         \u001b[1;34m\"please run \"\u001b[0m\u001b[0;31m \u001b[0m\u001b[0;31m\\\u001b[0m\u001b[1;33m\u001b[0m\u001b[1;33m\u001b[0m\u001b[0m\n\u001b[0;32m   1435\u001b[0m \t\t\t\t\t\"pip install chart_studio\" )\n",
      "\u001b[1;31mException\u001b[0m: chart_studio is required outside of offline mode: please run pip install chart_studio"
     ]
    }
   ],
   "source": []
  },
  {
   "cell_type": "code",
   "execution_count": null,
   "id": "bb9da18e",
   "metadata": {},
   "outputs": [],
   "source": []
  }
 ],
 "metadata": {
  "kernelspec": {
   "display_name": "Python 3 (ipykernel)",
   "language": "python",
   "name": "python3"
  },
  "language_info": {
   "codemirror_mode": {
    "name": "ipython",
    "version": 3
   },
   "file_extension": ".py",
   "mimetype": "text/x-python",
   "name": "python",
   "nbconvert_exporter": "python",
   "pygments_lexer": "ipython3",
   "version": "3.10.1"
  }
 },
 "nbformat": 4,
 "nbformat_minor": 5
}
