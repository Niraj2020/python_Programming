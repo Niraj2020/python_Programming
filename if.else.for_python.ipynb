{
 "cells": [
  {
   "cell_type": "code",
   "execution_count": 4,
   "id": "78029ebb",
   "metadata": {},
   "outputs": [
    {
     "data": {
      "text/plain": [
       "True"
      ]
     },
     "execution_count": 4,
     "metadata": {},
     "output_type": "execute_result"
    }
   ],
   "source": [
    "s=10\n",
    "if s<15:\n",
    "    pass\n",
    "s<15"
   ]
  },
  {
   "cell_type": "code",
   "execution_count": 3,
   "id": "029c2f9b",
   "metadata": {},
   "outputs": [
    {
     "data": {
      "text/plain": [
       "True"
      ]
     },
     "execution_count": 3,
     "metadata": {},
     "output_type": "execute_result"
    }
   ],
   "source": [
    "s<15"
   ]
  },
  {
   "cell_type": "code",
   "execution_count": 8,
   "id": "f124a6f5",
   "metadata": {},
   "outputs": [
    {
     "name": "stdout",
     "output_type": "stream",
     "text": [
      "my name is niraj\n"
     ]
    }
   ],
   "source": [
    "if 5<10:\n",
    "    print(\"my name is niraj\")\n",
    "else:\n",
    "    print(\"my name is sharma\")"
   ]
  },
  {
   "cell_type": "code",
   "execution_count": 9,
   "id": "f4fed596",
   "metadata": {},
   "outputs": [
    {
     "name": "stdout",
     "output_type": "stream",
     "text": [
      "29\n",
      "i will be able to buy anything\n"
     ]
    }
   ],
   "source": [
    "A=int(input())\n",
    "if A<10:\n",
    "    print(\"i will be able to buy a icecream\")\n",
    "elif A<20:\n",
    "    print(\"i will be able to buy a pizaa\")\n",
    "elif A<30:\n",
    "    print(\"i will be able to buy anything\")\n",
    "else:\n",
    "    print(\" I am not able to buy anuthing\")"
   ]
  },
  {
   "cell_type": "code",
   "execution_count": 10,
   "id": "53ad3d18",
   "metadata": {},
   "outputs": [
    {
     "name": "stdout",
     "output_type": "stream",
     "text": [
      "5000\n",
      "wont be able to give any discount\n"
     ]
    }
   ],
   "source": [
    "total_price=int(input())\n",
    "if total_price>10000:\n",
    "    discount=total_price*.20\n",
    "    print(\"Discount will be\",discount)\n",
    "elif total_price>7000:\n",
    "    discount=total_price*.05\n",
    "    print(\"Discount will be\",discount)\n",
    "else:\n",
    "    print(\"wont be able to give any discount\")\n",
    "    "
   ]
  },
  {
   "cell_type": "code",
   "execution_count": 12,
   "id": "d8284432",
   "metadata": {},
   "outputs": [
    {
     "name": "stdout",
     "output_type": "stream",
     "text": [
      "enter a string to start1\n",
      "enter a courseds\n",
      "enter a servicemodule\n",
      "contact with ur team\n"
     ]
    }
   ],
   "source": [
    "s=input(\"enter a string to start\")\n",
    "course=input(\"enter a course\")\n",
    "service=input(\"enter a service\")\n",
    "if s==\"one\":\n",
    "    if course==\"DS\":\n",
    "        print(\"yes its available\")\n",
    "    elif course==\"block chain\":\n",
    "        print(\"no, it is not available\")\n",
    "    elif course==\"FSDS\":\n",
    "        print(\"yes, start learning\")\n",
    "    else:\n",
    "        print(\"not availabe, raise your demand\")\n",
    "elif s==\"service\":\n",
    "    if service==\"course request\":\n",
    "        print(\"raise demand\")\n",
    "    elif service==\"module\":\n",
    "        print(\"new course module\")\n",
    "    elif service==\"doubt\":\n",
    "        print(\"work with us\")\n",
    "    else:\n",
    "        print(\"provide your feedback\")\n",
    "else:\n",
    "    print(\"contact with ur team\")\n",
    "        "
   ]
  },
  {
   "cell_type": "code",
   "execution_count": 14,
   "id": "92b17e48",
   "metadata": {},
   "outputs": [],
   "source": [
    "######forloop,whileloop#################"
   ]
  },
  {
   "cell_type": "code",
   "execution_count": 16,
   "id": "f47a0436",
   "metadata": {},
   "outputs": [
    {
     "name": "stdout",
     "output_type": "stream",
     "text": [
      "nameNI\n",
      "emailidNI\n",
      "phonenoNI\n",
      "addressNI\n"
     ]
    }
   ],
   "source": [
    "A=[\"name\",\"emailid\",\"phoneno\",\"address\"]\n",
    "for i in A:\n",
    "    print(i+\"NI\")"
   ]
  },
  {
   "cell_type": "code",
   "execution_count": 17,
   "id": "094f23a3",
   "metadata": {},
   "outputs": [
    {
     "name": "stdout",
     "output_type": "stream",
     "text": [
      "i\n",
      "n\n",
      "u\n",
      "r\n",
      "o\n",
      "n\n"
     ]
    }
   ],
   "source": [
    "s=\"inuron\"\n",
    "for i in s:\n",
    "    print(i)"
   ]
  },
  {
   "cell_type": "code",
   "execution_count": 18,
   "id": "1d8d9e40",
   "metadata": {},
   "outputs": [
    {
     "data": {
      "text/plain": [
       "['name', 'emailid', 'phoneno', 'address']"
      ]
     },
     "execution_count": 18,
     "metadata": {},
     "output_type": "execute_result"
    }
   ],
   "source": [
    "A"
   ]
  },
  {
   "cell_type": "code",
   "execution_count": 19,
   "id": "839b5e5a",
   "metadata": {},
   "outputs": [
    {
     "name": "stdout",
     "output_type": "stream",
     "text": [
      "name\n",
      "emailid\n",
      "phoneno\n",
      "address\n",
      "not availbe\n"
     ]
    }
   ],
   "source": [
    "for i in A:\n",
    "    print(i)\n",
    "else:\n",
    "    print(\"not availbe\")\n",
    "    \n",
    "    "
   ]
  },
  {
   "cell_type": "code",
   "execution_count": 21,
   "id": "6047c26e",
   "metadata": {},
   "outputs": [
    {
     "name": "stdout",
     "output_type": "stream",
     "text": [
      "1\n",
      "2\n",
      "3\n",
      "4\n",
      "5\n"
     ]
    }
   ],
   "source": [
    "a=1\n",
    "while a<6:\n",
    "    print(a)\n",
    "    a+=1"
   ]
  },
  {
   "cell_type": "code",
   "execution_count": null,
   "id": "279bfe88",
   "metadata": {},
   "outputs": [],
   "source": [
    "a = 1 \n",
    "while a < 5 :\n",
    "    print(a)\n",
    "    if a == 4 :\n",
    "        break\n",
    "    a = a +1 "
   ]
  },
  {
   "cell_type": "code",
   "execution_count": null,
   "id": "f09efca7",
   "metadata": {},
   "outputs": [],
   "source": [
    "a=1\n",
    "whilea<5:\n",
    "    print(a)\n",
    "    a=a+1\n",
    "    if a==3:\n",
    "        continue"
   ]
  },
  {
   "cell_type": "code",
   "execution_count": null,
   "id": "6ae1ce66",
   "metadata": {},
   "outputs": [],
   "source": [
    "list(range(6))"
   ]
  },
  {
   "cell_type": "code",
   "execution_count": null,
   "id": "25d8f7f9",
   "metadata": {},
   "outputs": [],
   "source": []
  }
 ],
 "metadata": {
  "kernelspec": {
   "display_name": "Python 3 (ipykernel)",
   "language": "python",
   "name": "python3"
  },
  "language_info": {
   "codemirror_mode": {
    "name": "ipython",
    "version": 3
   },
   "file_extension": ".py",
   "mimetype": "text/x-python",
   "name": "python",
   "nbconvert_exporter": "python",
   "pygments_lexer": "ipython3",
   "version": "3.10.1"
  }
 },
 "nbformat": 4,
 "nbformat_minor": 5
}
