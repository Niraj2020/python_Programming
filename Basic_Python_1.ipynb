{
 "cells": [
  {
   "cell_type": "code",
   "execution_count": 1,
   "id": "185cdbcb",
   "metadata": {},
   "outputs": [
    {
     "data": {
      "text/plain": [
       "'Neeraj'"
      ]
     },
     "execution_count": 1,
     "metadata": {},
     "output_type": "execute_result"
    }
   ],
   "source": [
    "name=\"Neeraj\"\n",
    "name"
   ]
  },
  {
   "cell_type": "code",
   "execution_count": 2,
   "id": "4fc42867",
   "metadata": {},
   "outputs": [
    {
     "name": "stdout",
     "output_type": "stream",
     "text": [
      "niraj\n"
     ]
    }
   ],
   "source": [
    "name='niraj'\n",
    "print(name)"
   ]
  },
  {
   "cell_type": "code",
   "execution_count": 3,
   "id": "1138593d",
   "metadata": {},
   "outputs": [
    {
     "data": {
      "text/plain": [
       "'name'"
      ]
     },
     "execution_count": 3,
     "metadata": {},
     "output_type": "execute_result"
    }
   ],
   "source": [
    "s='name'\n",
    "s"
   ]
  },
  {
   "cell_type": "code",
   "execution_count": 5,
   "id": "5ba12d68",
   "metadata": {},
   "outputs": [
    {
     "data": {
      "text/plain": [
       "'name'"
      ]
     },
     "execution_count": 5,
     "metadata": {},
     "output_type": "execute_result"
    }
   ],
   "source": [
    "s=\"name\"\n",
    "s"
   ]
  },
  {
   "cell_type": "code",
   "execution_count": 6,
   "id": "91a1b8f4",
   "metadata": {},
   "outputs": [
    {
     "data": {
      "text/plain": [
       "str"
      ]
     },
     "execution_count": 6,
     "metadata": {},
     "output_type": "execute_result"
    }
   ],
   "source": [
    "type(s)"
   ]
  },
  {
   "cell_type": "code",
   "execution_count": 7,
   "id": "86a39dc2",
   "metadata": {},
   "outputs": [
    {
     "data": {
      "text/plain": [
       "'n'"
      ]
     },
     "execution_count": 7,
     "metadata": {},
     "output_type": "execute_result"
    }
   ],
   "source": [
    "s[0]"
   ]
  },
  {
   "cell_type": "code",
   "execution_count": 8,
   "id": "de380769",
   "metadata": {},
   "outputs": [
    {
     "data": {
      "text/plain": [
       "'e'"
      ]
     },
     "execution_count": 8,
     "metadata": {},
     "output_type": "execute_result"
    }
   ],
   "source": [
    "s[-1]"
   ]
  },
  {
   "cell_type": "code",
   "execution_count": 9,
   "id": "5ec6594e",
   "metadata": {},
   "outputs": [
    {
     "name": "stdout",
     "output_type": "stream",
     "text": [
      "my name is Neeraj\n"
     ]
    }
   ],
   "source": [
    "A=\"my name is Neeraj\"\n",
    "print(A)"
   ]
  },
  {
   "cell_type": "code",
   "execution_count": 15,
   "id": "a3816847",
   "metadata": {},
   "outputs": [
    {
     "name": "stdout",
     "output_type": "stream",
     "text": [
      "my name is Neeraj\n"
     ]
    }
   ],
   "source": [
    "A='my name is Neeraj'\n",
    "print(A)"
   ]
  },
  {
   "cell_type": "code",
   "execution_count": 16,
   "id": "53cdc72e",
   "metadata": {},
   "outputs": [
    {
     "data": {
      "text/plain": [
       "'m'"
      ]
     },
     "execution_count": 16,
     "metadata": {},
     "output_type": "execute_result"
    }
   ],
   "source": [
    "A[0]"
   ]
  },
  {
   "cell_type": "code",
   "execution_count": 20,
   "id": "14bcb2a0",
   "metadata": {},
   "outputs": [
    {
     "data": {
      "text/plain": [
       "' '"
      ]
     },
     "execution_count": 20,
     "metadata": {},
     "output_type": "execute_result"
    }
   ],
   "source": [
    "A[10]"
   ]
  },
  {
   "cell_type": "code",
   "execution_count": 21,
   "id": "1e2ead2e",
   "metadata": {},
   "outputs": [
    {
     "data": {
      "text/plain": [
       "'my'"
      ]
     },
     "execution_count": 21,
     "metadata": {},
     "output_type": "execute_result"
    }
   ],
   "source": [
    "A[0:2]"
   ]
  },
  {
   "cell_type": "code",
   "execution_count": 22,
   "id": "d46d89bc",
   "metadata": {},
   "outputs": [
    {
     "data": {
      "text/plain": [
       "''"
      ]
     },
     "execution_count": 22,
     "metadata": {},
     "output_type": "execute_result"
    }
   ],
   "source": [
    "A[-1:4]"
   ]
  },
  {
   "cell_type": "code",
   "execution_count": 23,
   "id": "ed928cfb",
   "metadata": {},
   "outputs": [
    {
     "data": {
      "text/plain": [
       "17"
      ]
     },
     "execution_count": 23,
     "metadata": {},
     "output_type": "execute_result"
    }
   ],
   "source": [
    "len(A)"
   ]
  },
  {
   "cell_type": "code",
   "execution_count": 24,
   "id": "234f2419",
   "metadata": {},
   "outputs": [
    {
     "name": "stdout",
     "output_type": "stream",
     "text": [
      "NirajNirajNirajNiraj\n"
     ]
    }
   ],
   "source": [
    "a=\"Niraj\"\n",
    "b=a*4\n",
    "print(b)"
   ]
  },
  {
   "cell_type": "code",
   "execution_count": 25,
   "id": "7df0f082",
   "metadata": {},
   "outputs": [
    {
     "data": {
      "text/plain": [
       "3"
      ]
     },
     "execution_count": 25,
     "metadata": {},
     "output_type": "execute_result"
    }
   ],
   "source": [
    "a.find('a')"
   ]
  },
  {
   "cell_type": "code",
   "execution_count": 26,
   "id": "08dc7b35",
   "metadata": {},
   "outputs": [
    {
     "data": {
      "text/plain": [
       "1"
      ]
     },
     "execution_count": 26,
     "metadata": {},
     "output_type": "execute_result"
    }
   ],
   "source": [
    "a.count('a')"
   ]
  },
  {
   "cell_type": "code",
   "execution_count": 30,
   "id": "600c24cd",
   "metadata": {},
   "outputs": [],
   "source": [
    "d=a.split()"
   ]
  },
  {
   "cell_type": "code",
   "execution_count": null,
   "id": "ca65f226",
   "metadata": {},
   "outputs": [],
   "source": []
  },
  {
   "cell_type": "code",
   "execution_count": 31,
   "id": "00fdc333",
   "metadata": {},
   "outputs": [
    {
     "data": {
      "text/plain": [
       "'NIRAJ'"
      ]
     },
     "execution_count": 31,
     "metadata": {},
     "output_type": "execute_result"
    }
   ],
   "source": [
    "a.upper()"
   ]
  },
  {
   "cell_type": "code",
   "execution_count": 32,
   "id": "db6e99b9",
   "metadata": {},
   "outputs": [
    {
     "data": {
      "text/plain": [
       "'niraj'"
      ]
     },
     "execution_count": 32,
     "metadata": {},
     "output_type": "execute_result"
    }
   ],
   "source": [
    "a.lower()"
   ]
  },
  {
   "cell_type": "code",
   "execution_count": 33,
   "id": "4b32d094",
   "metadata": {},
   "outputs": [
    {
     "data": {
      "text/plain": [
       "'nIRAJ'"
      ]
     },
     "execution_count": 33,
     "metadata": {},
     "output_type": "execute_result"
    }
   ],
   "source": [
    "a.swapcase()"
   ]
  },
  {
   "cell_type": "code",
   "execution_count": 34,
   "id": "aaf7783a",
   "metadata": {},
   "outputs": [
    {
     "data": {
      "text/plain": [
       "'Niraj'"
      ]
     },
     "execution_count": 34,
     "metadata": {},
     "output_type": "execute_result"
    }
   ],
   "source": [
    "a.title()"
   ]
  },
  {
   "cell_type": "code",
   "execution_count": 36,
   "id": "28392fe6",
   "metadata": {},
   "outputs": [
    {
     "data": {
      "text/plain": [
       "'Niraj'"
      ]
     },
     "execution_count": 36,
     "metadata": {},
     "output_type": "execute_result"
    }
   ],
   "source": [
    "a.capitalize()"
   ]
  },
  {
   "cell_type": "code",
   "execution_count": 40,
   "id": "15e7f7a2",
   "metadata": {},
   "outputs": [
    {
     "data": {
      "text/plain": [
       "'sNirajhNirajaNirajrNirajmNiraja'"
      ]
     },
     "execution_count": 40,
     "metadata": {},
     "output_type": "execute_result"
    }
   ],
   "source": [
    "x=\"Niraj\"\n",
    "y=\"sharma\"\n",
    "x.join(y)"
   ]
  },
  {
   "cell_type": "code",
   "execution_count": 43,
   "id": "fa51d497",
   "metadata": {},
   "outputs": [
    {
     "name": "stdout",
     "output_type": "stream",
     "text": [
      "j\n",
      "a\n",
      "r\n",
      "i\n",
      "n\n"
     ]
    }
   ],
   "source": [
    "for i in reversed(\"niraj\"):\n",
    "    print(i)"
   ]
  },
  {
   "cell_type": "code",
   "execution_count": 47,
   "id": "89bfb489",
   "metadata": {},
   "outputs": [
    {
     "data": {
      "text/plain": [
       "'niraj'"
      ]
     },
     "execution_count": 47,
     "metadata": {},
     "output_type": "execute_result"
    }
   ],
   "source": [
    "x=\"niraj\"\n",
    "x.rstrip()"
   ]
  },
  {
   "cell_type": "code",
   "execution_count": 48,
   "id": "d7d4d297",
   "metadata": {},
   "outputs": [
    {
     "data": {
      "text/plain": [
       "'niraj'"
      ]
     },
     "execution_count": 48,
     "metadata": {},
     "output_type": "execute_result"
    }
   ],
   "source": [
    "x=\"niraj\"\n",
    "x.lstrip()"
   ]
  },
  {
   "cell_type": "code",
   "execution_count": 50,
   "id": "1d5998f0",
   "metadata": {},
   "outputs": [
    {
     "data": {
      "text/plain": [
       "'xyziraj'"
      ]
     },
     "execution_count": 50,
     "metadata": {},
     "output_type": "execute_result"
    }
   ],
   "source": [
    "x.replace(\"n\",\"xyz\")"
   ]
  },
  {
   "cell_type": "code",
   "execution_count": 52,
   "id": "b727e700",
   "metadata": {},
   "outputs": [
    {
     "data": {
      "text/plain": [
       "'*******niraj********'"
      ]
     },
     "execution_count": 52,
     "metadata": {},
     "output_type": "execute_result"
    }
   ],
   "source": [
    "x.center(20,'*')"
   ]
  },
  {
   "cell_type": "code",
   "execution_count": 53,
   "id": "86c7caf1",
   "metadata": {},
   "outputs": [
    {
     "data": {
      "text/plain": [
       "False"
      ]
     },
     "execution_count": 53,
     "metadata": {},
     "output_type": "execute_result"
    }
   ],
   "source": [
    "x.isupper()"
   ]
  },
  {
   "cell_type": "code",
   "execution_count": 54,
   "id": "cb311db5",
   "metadata": {},
   "outputs": [
    {
     "data": {
      "text/plain": [
       "True"
      ]
     },
     "execution_count": 54,
     "metadata": {},
     "output_type": "execute_result"
    }
   ],
   "source": [
    "x.islower()"
   ]
  },
  {
   "cell_type": "code",
   "execution_count": 55,
   "id": "6c1f9f1f",
   "metadata": {},
   "outputs": [
    {
     "data": {
      "text/plain": [
       "False"
      ]
     },
     "execution_count": 55,
     "metadata": {},
     "output_type": "execute_result"
    }
   ],
   "source": [
    "x.isspace()"
   ]
  },
  {
   "cell_type": "code",
   "execution_count": 56,
   "id": "981cae14",
   "metadata": {},
   "outputs": [
    {
     "data": {
      "text/plain": [
       "False"
      ]
     },
     "execution_count": 56,
     "metadata": {},
     "output_type": "execute_result"
    }
   ],
   "source": [
    "x.isdigit()"
   ]
  },
  {
   "cell_type": "code",
   "execution_count": 58,
   "id": "a10c6423",
   "metadata": {},
   "outputs": [
    {
     "data": {
      "text/plain": [
       "True"
      ]
     },
     "execution_count": 58,
     "metadata": {},
     "output_type": "execute_result"
    }
   ],
   "source": [
    "x.endswith('j')"
   ]
  },
  {
   "cell_type": "code",
   "execution_count": 59,
   "id": "f3f22ed8",
   "metadata": {},
   "outputs": [
    {
     "data": {
      "text/plain": [
       "False"
      ]
     },
     "execution_count": 59,
     "metadata": {},
     "output_type": "execute_result"
    }
   ],
   "source": [
    "x.istitle()"
   ]
  },
  {
   "cell_type": "code",
   "execution_count": 60,
   "id": "d07ee341",
   "metadata": {},
   "outputs": [
    {
     "data": {
      "text/plain": [
       "b'niraj'"
      ]
     },
     "execution_count": 60,
     "metadata": {},
     "output_type": "execute_result"
    }
   ],
   "source": [
    "x.encode()"
   ]
  },
  {
   "cell_type": "code",
   "execution_count": 62,
   "id": "ae3bbb55",
   "metadata": {},
   "outputs": [
    {
     "data": {
      "text/plain": [
       "['sudh milk', 'kumari', 1234, 4556, (5+6j), True, 2.4]"
      ]
     },
     "execution_count": 62,
     "metadata": {},
     "output_type": "execute_result"
    }
   ],
   "source": [
    "Z=[\"sudh milk\",\"kumari\",1234,4556,5+6j,True,2.4]\n",
    "Z"
   ]
  },
  {
   "cell_type": "code",
   "execution_count": 63,
   "id": "18f621fc",
   "metadata": {},
   "outputs": [
    {
     "data": {
      "text/plain": [
       "list"
      ]
     },
     "execution_count": 63,
     "metadata": {},
     "output_type": "execute_result"
    }
   ],
   "source": [
    "type(Z)"
   ]
  },
  {
   "cell_type": "code",
   "execution_count": 67,
   "id": "2c65bf9d",
   "metadata": {},
   "outputs": [
    {
     "data": {
      "text/plain": [
       "0"
      ]
     },
     "execution_count": 67,
     "metadata": {},
     "output_type": "execute_result"
    }
   ],
   "source": [
    "Z[3].imag"
   ]
  },
  {
   "cell_type": "code",
   "execution_count": 68,
   "id": "d0b78bcf",
   "metadata": {},
   "outputs": [
    {
     "data": {
      "text/plain": [
       "7"
      ]
     },
     "execution_count": 68,
     "metadata": {},
     "output_type": "execute_result"
    }
   ],
   "source": [
    "len(Z)"
   ]
  },
  {
   "cell_type": "code",
   "execution_count": 70,
   "id": "76ba6976",
   "metadata": {},
   "outputs": [
    {
     "data": {
      "text/plain": [
       "0"
      ]
     },
     "execution_count": 70,
     "metadata": {},
     "output_type": "execute_result"
    }
   ],
   "source": [
    "Z.count(\"a\")"
   ]
  },
  {
   "cell_type": "code",
   "execution_count": 71,
   "id": "a013ed9e",
   "metadata": {},
   "outputs": [],
   "source": [
    "Z.append([1,2,4])"
   ]
  },
  {
   "cell_type": "code",
   "execution_count": 72,
   "id": "2cd8a36d",
   "metadata": {},
   "outputs": [
    {
     "data": {
      "text/plain": [
       "['sudh milk', 'kumari', 1234, 4556, (5+6j), True, 2.4, [1, 2, 4]]"
      ]
     },
     "execution_count": 72,
     "metadata": {},
     "output_type": "execute_result"
    }
   ],
   "source": [
    "Z"
   ]
  },
  {
   "cell_type": "code",
   "execution_count": null,
   "id": "3dc9f70f",
   "metadata": {},
   "outputs": [],
   "source": []
  }
 ],
 "metadata": {
  "kernelspec": {
   "display_name": "Python 3 (ipykernel)",
   "language": "python",
   "name": "python3"
  },
  "language_info": {
   "codemirror_mode": {
    "name": "ipython",
    "version": 3
   },
   "file_extension": ".py",
   "mimetype": "text/x-python",
   "name": "python",
   "nbconvert_exporter": "python",
   "pygments_lexer": "ipython3",
   "version": "3.10.1"
  }
 },
 "nbformat": 4,
 "nbformat_minor": 5
}
